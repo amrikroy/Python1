{
 "cells": [
  {
   "cell_type": "markdown",
   "id": "0b940c60-070f-4669-8f0c-3c4952ff2ac7",
   "metadata": {},
   "source": [
    "Q1. What is an Exception in Python? Write the difference between Exceptions and Syntax errors."
   ]
  },
  {
   "cell_type": "markdown",
   "id": "7bac435b-183d-4aba-bbb2-9cc7bf8d159d",
   "metadata": {},
   "source": [
    "An exception in Python is an error that occurs during the execution of a program, while a syntax error is an error in the code itself.\n",
    "\n",
    "Here are the key differences in short:\n",
    "\n",
    "Exceptions occur during program execution, while syntax errors occur during the parsing phase before execution.\n",
    "Exceptions are caused by runtime factors, such as invalid inputs or file not found, while syntax errors result from violating Python's syntax rules.\n",
    "Exceptions can be caught and handled using try-except blocks, allowing the program to recover. Syntax errors cannot be caught and need to be fixed before execution.\n",
    "Exceptions provide detailed error messages with tracebacks, while syntax errors offer brief error messages indicating the location and type of the error."
   ]
  },
  {
   "cell_type": "markdown",
   "id": "f95f5278-ad98-4329-b6c7-ff7181fbd98f",
   "metadata": {},
   "source": [
    "Q2. What happens when an exception is not handled? Explain with an example."
   ]
  },
  {
   "cell_type": "markdown",
   "id": "bd6c4440-cf8e-4192-a096-b5caccbe7d11",
   "metadata": {},
   "source": [
    "When an exception is not handled, it leads to an unhandled exception error, and the program execution is halted abruptly. This means that the program terminates and does not continue with the remaining instructions.\n",
    "\n",
    "Here's an example to illustrate what happens when an exception is not handled:"
   ]
  },
  {
   "cell_type": "code",
   "execution_count": 16,
   "id": "0a99099e-d7fc-40bd-a595-11d30ad52184",
   "metadata": {},
   "outputs": [
    {
     "ename": "ZeroDivisionError",
     "evalue": "division by zero",
     "output_type": "error",
     "traceback": [
      "\u001b[0;31m---------------------------------------------------------------------------\u001b[0m",
      "\u001b[0;31mZeroDivisionError\u001b[0m                         Traceback (most recent call last)",
      "Cell \u001b[0;32mIn[16], line 6\u001b[0m\n\u001b[1;32m      3\u001b[0m     \u001b[38;5;28;01mreturn\u001b[39;00m result\n\u001b[1;32m      5\u001b[0m \u001b[38;5;66;03m# Calling the function with invalid inputs\u001b[39;00m\n\u001b[0;32m----> 6\u001b[0m result \u001b[38;5;241m=\u001b[39m \u001b[43mdivide_numbers\u001b[49m\u001b[43m(\u001b[49m\u001b[38;5;241;43m10\u001b[39;49m\u001b[43m,\u001b[49m\u001b[43m \u001b[49m\u001b[38;5;241;43m0\u001b[39;49m\u001b[43m)\u001b[49m\n\u001b[1;32m      7\u001b[0m \u001b[38;5;28mprint\u001b[39m(result)\n",
      "Cell \u001b[0;32mIn[16], line 2\u001b[0m, in \u001b[0;36mdivide_numbers\u001b[0;34m(a, b)\u001b[0m\n\u001b[1;32m      1\u001b[0m \u001b[38;5;28;01mdef\u001b[39;00m \u001b[38;5;21mdivide_numbers\u001b[39m(a, b):\n\u001b[0;32m----> 2\u001b[0m     result \u001b[38;5;241m=\u001b[39m \u001b[43ma\u001b[49m\u001b[43m \u001b[49m\u001b[38;5;241;43m/\u001b[39;49m\u001b[43m \u001b[49m\u001b[43mb\u001b[49m\n\u001b[1;32m      3\u001b[0m     \u001b[38;5;28;01mreturn\u001b[39;00m result\n",
      "\u001b[0;31mZeroDivisionError\u001b[0m: division by zero"
     ]
    }
   ],
   "source": [
    "def divide_numbers(a, b):\n",
    "    result = a / b\n",
    "    return result\n",
    "\n",
    "# Calling the function with invalid inputs\n",
    "result = divide_numbers(10, 0)\n",
    "print(result)\n"
   ]
  },
  {
   "cell_type": "code",
   "execution_count": null,
   "id": "172ef1a4-1f06-4b21-9ca0-19f41de5dc36",
   "metadata": {},
   "outputs": [],
   "source": [
    "Q3. Which Python statements are used to catch and handle exception? Explain with an example."
   ]
  },
  {
   "cell_type": "markdown",
   "id": "8e0fc82e-447c-4b7a-93be-dc72d0981fba",
   "metadata": {},
   "source": [
    "In Python, the statements used to raise and handle exceptions are try, except, else, finally, and raise.\n",
    "\n",
    "try block: It is used to enclose the code that might raise an exception. If an exception occurs within the try block, it is caught and handled.\n",
    "\n",
    "except block: It is used to define the exception handling code. When an exception is raised within the try block, the corresponding except block is executed. You can specify the type of exception to catch, or use a general except block to catch any exception.\n",
    "\n",
    "else block: It is an optional block that follows the except block(s). It is executed if no exception occurs in the try block. It is commonly used to define code that should run only if no exception was raised.\n",
    "\n",
    "finally block: It is an optional block that follows the try and except block(s). It is always executed, whether an exception was raised or not. It is typically used to define cleanup code that should run regardless of the exception.\n",
    "\n",
    "raise statement: It is used to explicitly raise an exception. You can raise built-in exceptions or create custom exceptions to indicate specific error conditions."
   ]
  },
  {
   "cell_type": "code",
   "execution_count": 17,
   "id": "ddfc2f02-3a38-4b78-89a5-496159d7106f",
   "metadata": {},
   "outputs": [
    {
     "name": "stdout",
     "output_type": "stream",
     "text": [
      "The result of the division is: 5.0\n",
      "The division operation is complete.\n",
      "Error: Division by zero is not allowed.\n",
      "The division operation is complete.\n"
     ]
    }
   ],
   "source": [
    "def divide_numbers(a, b):\n",
    "    try:\n",
    "        result = a / b\n",
    "    except ZeroDivisionError:\n",
    "        print(\"Error: Division by zero is not allowed.\")\n",
    "    else:\n",
    "        print(\"The result of the division is:\", result)\n",
    "    finally:\n",
    "        print(\"The division operation is complete.\")\n",
    "\n",
    "# Calling the function with different inputs\n",
    "divide_numbers(10, 2)\n",
    "divide_numbers(10, 0)\n"
   ]
  },
  {
   "cell_type": "code",
   "execution_count": null,
   "id": "f538c8da-509b-4350-a935-c72b46c241aa",
   "metadata": {},
   "outputs": [],
   "source": [
    "Q4. Explain with an example.\n",
    "Try and Else\n",
    "finally\n",
    "raise"
   ]
  },
  {
   "cell_type": "code",
   "execution_count": null,
   "id": "cd87cd14-b1e5-4191-b297-84d433bd4fe7",
   "metadata": {},
   "outputs": [],
   "source": [
    "An example that demonstrates the usage of try, else, finally, and raise statements:"
   ]
  },
  {
   "cell_type": "code",
   "execution_count": 18,
   "id": "b7a49462-25d1-45e3-b94b-f11b2449780c",
   "metadata": {},
   "outputs": [
    {
     "name": "stdout",
     "output_type": "stream",
     "text": [
      "Error: File not found.\n",
      "File processing complete.\n",
      "Error: File not found.\n",
      "File processing complete.\n"
     ]
    }
   ],
   "source": [
    "def process_file(file_path):\n",
    "    try:\n",
    "        file = open(file_path, 'r')\n",
    "        contents = file.read()\n",
    "    except FileNotFoundError:\n",
    "        print(\"Error: File not found.\")\n",
    "    else:\n",
    "        print(\"File contents:\", contents)\n",
    "    finally:\n",
    "        if 'file' in locals():\n",
    "            file.close()\n",
    "        print(\"File processing complete.\")\n",
    "\n",
    "# Example 1: File exists\n",
    "process_file(\"example.txt\")\n",
    "\n",
    "# Example 2: File does not exist\n",
    "process_file(\"nonexistent.txt\")\n"
   ]
  },
  {
   "cell_type": "code",
   "execution_count": null,
   "id": "17fbf243-c0d5-45bf-a824-a91420ee1c14",
   "metadata": {},
   "outputs": [],
   "source": [
    "To demonstrate the usage of raise, let's consider an example where a custom exception is raised:"
   ]
  },
  {
   "cell_type": "code",
   "execution_count": 20,
   "id": "58cd9cb7-33a1-428d-8725-fa4af59039e5",
   "metadata": {},
   "outputs": [
    {
     "name": "stdout",
     "output_type": "stream",
     "text": [
      "Access granted.\n",
      "Error: You must be at least 18 years old.\n"
     ]
    }
   ],
   "source": [
    "class CustomException(Exception):\n",
    "    pass\n",
    "\n",
    "def check_age(age):\n",
    "    if age < 18:\n",
    "        raise CustomException(\"You must be at least 18 years old.\")\n",
    "    else:\n",
    "        print(\"Access granted.\")\n",
    "\n",
    "# Age check\n",
    "try:\n",
    "    check_age(20)\n",
    "    check_age(15)\n",
    "except CustomException as e:\n",
    "    print(\"Error:\", str(e))\n"
   ]
  },
  {
   "cell_type": "code",
   "execution_count": null,
   "id": "5357437f-6b43-4132-bc50-3adf9eb9f7db",
   "metadata": {},
   "outputs": [],
   "source": [
    "Q5. What are customs exceptions in Python? Why do we need custom exceptions? explain with an example"
   ]
  },
  {
   "cell_type": "markdown",
   "id": "83a9b475-7012-4ba2-9734-0a8b9b989070",
   "metadata": {},
   "source": [
    "Custom exceptions in Python are user-defined exception classes that extend the base Exception class or its subclasses. They allow programmers to create their own specific exception types to represent and handle exceptional situations that are not covered by built-in exceptions."
   ]
  },
  {
   "cell_type": "code",
   "execution_count": 29,
   "id": "11fd405a-10bb-4df6-9efb-00524d0ebd1c",
   "metadata": {},
   "outputs": [
    {
     "name": "stdout",
     "output_type": "stream",
     "text": [
      "Withdrawal Error: Insufficient funds.\n",
      "Withdrawal Error: Withdrawal amount cannot be negative.\n"
     ]
    }
   ],
   "source": [
    "class WithdrawalError(Exception):\n",
    "    pass\n",
    "\n",
    "class InsufficientFundsError(WithdrawalError):\n",
    "    pass\n",
    "\n",
    "class NegativeAmountError(WithdrawalError):\n",
    "    pass\n",
    "\n",
    "class BankAccount:\n",
    "    def __init__(self, balance):\n",
    "        self.balance = balance\n",
    "\n",
    "    def withdraw(self, amount):\n",
    "        if amount < 0:\n",
    "            raise NegativeAmountError(\"Withdrawal amount cannot be negative.\")\n",
    "        if amount > self.balance:\n",
    "            raise InsufficientFundsError(\"Insufficient funds.\")\n",
    "        self.balance -= amount\n",
    "        return self.balance\n",
    "\n",
    "# Example usage\n",
    "account = BankAccount(1000)\n",
    "\n",
    "try:\n",
    "    account.withdraw(1500)\n",
    "except WithdrawalError as e:\n",
    "    print(\"Withdrawal Error:\", str(e))\n",
    "\n",
    "try:\n",
    "    account.withdraw(-500)\n",
    "except WithdrawalError as e:\n",
    "    print(\"Withdrawal Error:\", str(e))\n"
   ]
  },
  {
   "cell_type": "code",
   "execution_count": null,
   "id": "af64c817-4af2-466c-a19c-ff441d411bb5",
   "metadata": {},
   "outputs": [],
   "source": [
    "Q6. Create a custom exception class. Use this class to handle exception."
   ]
  },
  {
   "cell_type": "code",
   "execution_count": 31,
   "id": "b61b70b3-b598-47fd-a72d-00a7b23b3766",
   "metadata": {},
   "outputs": [
    {
     "name": "stdin",
     "output_type": "stream",
     "text": [
      "Enter a positive number:  -8\n"
     ]
    },
    {
     "name": "stdout",
     "output_type": "stream",
     "text": [
      "Custom Exception: Negative numbers are not allowed.\n"
     ]
    }
   ],
   "source": [
    "class CustomException(Exception):\n",
    "    def __init__(self, message):\n",
    "        self.message = message\n",
    "\n",
    "try:\n",
    "    number = int(input(\"Enter a positive number: \"))\n",
    "    if number < 0:\n",
    "        raise CustomException(\"Negative numbers are not allowed.\")\n",
    "except CustomException as e:\n",
    "    print(\"Custom Exception:\", e.message)\n"
   ]
  },
  {
   "cell_type": "code",
   "execution_count": null,
   "id": "182ee94a-e799-4800-afd7-06357108fca6",
   "metadata": {},
   "outputs": [],
   "source": []
  }
 ],
 "metadata": {
  "kernelspec": {
   "display_name": "Python 3 (ipykernel)",
   "language": "python",
   "name": "python3"
  },
  "language_info": {
   "codemirror_mode": {
    "name": "ipython",
    "version": 3
   },
   "file_extension": ".py",
   "mimetype": "text/x-python",
   "name": "python",
   "nbconvert_exporter": "python",
   "pygments_lexer": "ipython3",
   "version": "3.10.8"
  }
 },
 "nbformat": 4,
 "nbformat_minor": 5
}
