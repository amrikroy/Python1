{
 "cells": [
  {
   "cell_type": "markdown",
   "id": "76e17ccb-a308-444a-b351-bd03ee4c122f",
   "metadata": {},
   "source": [
    "Q1. What is a database? Differentiate between SQL and NoSQL databases."
   ]
  },
  {
   "cell_type": "markdown",
   "id": "b01fcfc1-3a18-41e3-a9da-e5b313d4d402",
   "metadata": {},
   "source": [
    " A database is a structured collection of data that is organized and stored in a way that allows for efficient retrieval, manipulation, and management of information. It provides a systematic approach to store, manage, and retrieve data, making it an essential component of modern software applications."
   ]
  },
  {
   "cell_type": "markdown",
   "id": "634732de-f778-4865-8ae2-623d54ae2089",
   "metadata": {},
   "source": [
    "SQL databases:\n",
    "\n",
    "Follow a structured data model with tables and predefined schemas.\n",
    "Use SQL as the querying language.\n",
    "Well-suited for complex relationships and transactions.\n",
    "Provide strong consistency and support ACID properties.\n",
    "Examples: MySQL, PostgreSQL, Oracle Database, Microsoft SQL Server.\n",
    "\n",
    "NoSQL databases:\n",
    "\n",
    "Provide flexible data models for unstructured or semi-structured data.\n",
    "Use various querying mechanisms specific to their data model.\n",
    "Designed for horizontal scalability and handling large volumes of data.\n",
    "May prioritize availability and partition tolerance over strong consistency.\n",
    "Examples: MongoDB, Cassandra, Redis, CouchDB."
   ]
  },
  {
   "cell_type": "markdown",
   "id": "ad9e6b90-df03-424b-95f6-62bee9531550",
   "metadata": {},
   "source": [
    "Q2. What is DDL? Explain why CREATE, DROP, ALTER, and TRUNCATE are used with an example."
   ]
  },
  {
   "cell_type": "markdown",
   "id": "1b6f413f-fe25-44f3-a937-a344b193b8cd",
   "metadata": {},
   "source": [
    " DDL stands for Data Definition Language. It is a subset of SQL (Structured Query Language) that is used to define and manage the structure of a database and its objects."
   ]
  },
  {
   "cell_type": "markdown",
   "id": "91548b14-034c-413c-876f-f8e26b4e074a",
   "metadata": {},
   "source": [
    "CREATE: The CREATE statement is used to create new database objects such as tables, views, indexes, or procedures.\n",
    "\n",
    "DROP: The DROP statement is used to remove or delete database objects such as tables, views, or indexes. It permanently removes the object and its data from the database.\n",
    "\n",
    "ALTER: The ALTER statement is used to modify the structure of an existing database object.\n",
    "\n",
    "TRUNCATE: The TRUNCATE statement is used to remove all data from a table while keeping its structure intact. "
   ]
  },
  {
   "cell_type": "markdown",
   "id": "77c177f6-3348-434b-a8e6-d66789617965",
   "metadata": {},
   "source": [
    "Q3. What is DML? Explain INSERT, UPDATE, and DELETE with an example."
   ]
  },
  {
   "cell_type": "markdown",
   "id": "1969f898-2945-4e32-8031-2b8ce937616f",
   "metadata": {},
   "source": [
    "DML stands for Data Manipulation Language. It is a subset of SQL (Structured Query Language) that is used to manipulate and manage data within a database. DML statements are primarily used to insert, update, and delete data in database tables."
   ]
  },
  {
   "cell_type": "markdown",
   "id": "141f7db7-4d0f-414a-93f6-885b0ce5dea3",
   "metadata": {},
   "source": [
    "INSERT: The INSERT statement is used to insert new rows of data into a table. It specifies the table name and the values to be inserted into the columns."
   ]
  },
  {
   "cell_type": "code",
   "execution_count": null,
   "id": "a276b1df-cd02-428f-9ec6-4945eaddef49",
   "metadata": {},
   "outputs": [],
   "source": [
    "INSERT INTO Employees (ID, Name, Salary)\n",
    "VALUES (1, 'John Doe', 5000);\n"
   ]
  },
  {
   "cell_type": "markdown",
   "id": "529cfcb2-b983-4ad8-a9f7-d6de9019f675",
   "metadata": {},
   "source": [
    "The UPDATE statement is used to modify existing data in a table. It allows you to update one or more columns of one or more rows in a table.\n",
    "\n",
    "UPDATE Employees\n",
    "SET Salary = 6000\n",
    "WHERE ID = 1;\n"
   ]
  },
  {
   "cell_type": "code",
   "execution_count": null,
   "id": "3f71fcbf-386a-4ebb-a69d-c5f147917af8",
   "metadata": {},
   "outputs": [],
   "source": [
    "The DELETE statement is used to remove one or more rows of data from a table. \n",
    "\n",
    "DELETE FROM Employees\n",
    "WHERE ID = 1;\n"
   ]
  },
  {
   "cell_type": "markdown",
   "id": "50f6c24a-e483-4b7f-b9ce-d8075b15e870",
   "metadata": {},
   "source": [
    "Q4. What is DQL? Explain SELECT with an example."
   ]
  },
  {
   "cell_type": "markdown",
   "id": "fe7c8fc9-e3db-4603-931f-d17663c4f66c",
   "metadata": {},
   "source": [
    "DQL stands for Data Query Language. It is a subset of SQL (Structured Query Language) that is used to retrieve and query data from a database. The primary DQL statement is the SELECT statement, which allows you to specify the columns and conditions for retrieving data from one or more tables."
   ]
  },
  {
   "cell_type": "code",
   "execution_count": null,
   "id": "0f03b539-44df-4cf7-b0ec-5366c4a15dd0",
   "metadata": {},
   "outputs": [],
   "source": [
    "SELECT Name, Salary\n",
    "FROM Employees\n",
    "WHERE Department = 'Sales';\n",
    "\n",
    "The SELECT clause specifies the columns we want to retrieve: \"Name\" and \"Salary.\""
   ]
  },
  {
   "cell_type": "markdown",
   "id": "51ca795e-61ad-43ff-9763-9c3334fc28fb",
   "metadata": {},
   "source": [
    "Q5. Explain Primary Key and Foreign Key."
   ]
  },
  {
   "cell_type": "markdown",
   "id": "a31b20b6-118c-46fa-a8d5-025f394fa4d6",
   "metadata": {},
   "source": [
    "Primary Key: A primary key is a column or a combination of columns in a database table that uniquely identifies each row in the table. It provides a way to ensure data integrity and enforce uniqueness. A primary key constraint ensures that the values in the primary key column(s) are unique and not null. It is typically used as a reference point for relationships with other tables.\n",
    "\n",
    "Foreign Key: A foreign key is a column or a combination of columns in a table that refers to the primary key of another table. It establishes a relationship between two tables, creating a link between them. The foreign key constraint ensures referential integrity, meaning that the values in the foreign key column(s) must match the values in the primary key column(s) of the referenced table or be null."
   ]
  },
  {
   "cell_type": "markdown",
   "id": "035b6b15-de02-40d3-8cb9-b5833a257f44",
   "metadata": {},
   "source": [
    "Q6. Write a python code to connect MySQL to python. Explain the cursor() and execute() method."
   ]
  },
  {
   "cell_type": "markdown",
   "id": "adf99247-5310-44b5-a440-14b06b572916",
   "metadata": {},
   "source": [
    "To connect MySQL to Python, you can use the mysql-connector-python module. First, make sure you have the module installed by running the following command in your terminal:"
   ]
  },
  {
   "cell_type": "code",
   "execution_count": 2,
   "id": "74f8fab7-2b96-4e86-81bc-9bdfcce4ab97",
   "metadata": {},
   "outputs": [
    {
     "name": "stdout",
     "output_type": "stream",
     "text": [
      "Collecting mysql-connector-python\n",
      "  Downloading mysql_connector_python-8.0.33-cp310-cp310-manylinux1_x86_64.whl (27.4 MB)\n",
      "\u001b[2K     \u001b[90m━━━━━━━━━━━━━━━━━━━━━━━━━━━━━━━━━━━━━━━━\u001b[0m \u001b[32m27.4/27.4 MB\u001b[0m \u001b[31m50.7 MB/s\u001b[0m eta \u001b[36m0:00:00\u001b[0m00:01\u001b[0m00:01\u001b[0m\n",
      "\u001b[?25hCollecting protobuf<=3.20.3,>=3.11.0\n",
      "  Downloading protobuf-3.20.3-cp310-cp310-manylinux_2_12_x86_64.manylinux2010_x86_64.whl (1.1 MB)\n",
      "\u001b[2K     \u001b[90m━━━━━━━━━━━━━━━━━━━━━━━━━━━━━━━━━━━━━━━━\u001b[0m \u001b[32m1.1/1.1 MB\u001b[0m \u001b[31m62.5 MB/s\u001b[0m eta \u001b[36m0:00:00\u001b[0m\n",
      "\u001b[?25hInstalling collected packages: protobuf, mysql-connector-python\n",
      "  Attempting uninstall: protobuf\n",
      "    Found existing installation: protobuf 4.21.11\n",
      "    Uninstalling protobuf-4.21.11:\n",
      "      Successfully uninstalled protobuf-4.21.11\n",
      "Successfully installed mysql-connector-python-8.0.33 protobuf-3.20.3\n",
      "Note: you may need to restart the kernel to use updated packages.\n"
     ]
    }
   ],
   "source": [
    "pip install mysql-connector-python\n"
   ]
  },
  {
   "cell_type": "code",
   "execution_count": null,
   "id": "c71aa297-52ee-4c3c-9f2f-81b93b0cf0b1",
   "metadata": {},
   "outputs": [],
   "source": [
    "import mysql.connector\n",
    "\n",
    "# Establishing a connection\n",
    "cnx = mysql.connector.connect(\n",
    "    host=\"your_host\",\n",
    "    user=\"your_username\",\n",
    "    password=\"your_password\",\n",
    "    database=\"your_database\"\n",
    ")\n",
    "\n",
    "# Creating a cursor object\n",
    "cursor = cnx.cursor()\n",
    "\n",
    "# Executing SQL queries\n",
    "query = \"SELECT * FROM your_table\"\n",
    "cursor.execute(query)\n",
    "\n",
    "# Fetching the results\n",
    "results = cursor.fetchall()\n",
    "for row in results:\n",
    "    print(row)\n",
    "\n",
    "# Closing the cursor and connection\n",
    "cursor.close()\n",
    "cnx.close()\n"
   ]
  },
  {
   "cell_type": "code",
   "execution_count": null,
   "id": "6abc8ef9-e9df-460d-9081-991d8842d00d",
   "metadata": {},
   "outputs": [],
   "source": [
    "The cursor() method creates a cursor object cursor, which allows executing SQL queries and fetching results.\n",
    "The execute() method is used to execute SQL queries. You pass the query as a parameter to this method."
   ]
  },
  {
   "cell_type": "markdown",
   "id": "0f60b412-6bca-4f5b-972a-60ce340dbd2c",
   "metadata": {},
   "source": [
    "Q7. Give the order of execution of SQL clauses in an SQL query."
   ]
  },
  {
   "cell_type": "code",
   "execution_count": null,
   "id": "e94161f1-dbac-4bd1-914e-bb7a04113de1",
   "metadata": {},
   "outputs": [],
   "source": [
    "The order of execution of SQL clauses in an SQL query is as follows:\n",
    "\n",
    "FROM: The FROM clause specifies the table or tables from which the data will be retrieved.\n",
    "\n",
    "WHERE: The WHERE clause is used to filter the rows based on specified conditions.\n",
    "\n",
    "GROUP BY: The GROUP BY clause is used to group the rows based on one or more columns.\n",
    "\n",
    "HAVING: The HAVING clause is used to filter the grouped rows based on specified conditions.\n",
    "\n",
    "SELECT: The SELECT clause is used to specify the columns to be retrieved from the table.\n",
    "\n",
    "DISTINCT: The DISTINCT keyword is used to eliminate duplicate rows from the result set.\n",
    "\n",
    "ORDER BY: The ORDER BY clause is used to sort the rows in the result set based on one or more columns.\n",
    "\n",
    "LIMIT/OFFSET: The LIMIT and OFFSET clauses are used for result set pagination, allowing you to retrieve a specific number of rows starting from a particular position."
   ]
  }
 ],
 "metadata": {
  "kernelspec": {
   "display_name": "Python 3 (ipykernel)",
   "language": "python",
   "name": "python3"
  },
  "language_info": {
   "codemirror_mode": {
    "name": "ipython",
    "version": 3
   },
   "file_extension": ".py",
   "mimetype": "text/x-python",
   "name": "python",
   "nbconvert_exporter": "python",
   "pygments_lexer": "ipython3",
   "version": "3.10.8"
  }
 },
 "nbformat": 4,
 "nbformat_minor": 5
}
