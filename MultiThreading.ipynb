{
 "cells": [
  {
   "cell_type": "code",
   "execution_count": null,
   "id": "e5c55f64-e31c-4af1-a7f7-e8995f84bdbe",
   "metadata": {},
   "outputs": [],
   "source": [
    "What is multithreading in python? Why is it used? Name the module used to handle threads in python."
   ]
  },
  {
   "cell_type": "markdown",
   "id": "8dfab8e9-2287-4c49-979b-fb3eb5a7f086",
   "metadata": {},
   "source": [
    "Multithreading in Python refers to the concurrent execution of multiple threads within a single program.\n",
    "\n",
    "Multithreading is used in Python to achieve concurrency, where multiple threads can execute simultaneously, improving the overall performance and responsiveness of the program. It is particularly useful in scenarios where there are tasks that can be executed independently, such as performing I/O operations or executing time-consuming computations."
   ]
  },
  {
   "cell_type": "markdown",
   "id": "61b8a484-acb1-46f1-a426-75078b3dea2d",
   "metadata": {},
   "source": [
    "The threading module is used to handle threads in Python. It provides classes and functions to create and manage threads, allowing developers to write multithreaded programs. The threading module simplifies the process of creating and managing threads, providing synchronization mechanisms like locks, events, and semaphores to coordinate thread execution and data sharing between threads."
   ]
  },
  {
   "cell_type": "markdown",
   "id": "d96fe78e-f246-42b0-ba97-f9a780175665",
   "metadata": {},
   "source": [
    "Why threading module used? Write the use of the following functions\n",
    "activeCount()\n",
    "currentThread()\n",
    "enumerate()"
   ]
  },
  {
   "cell_type": "markdown",
   "id": "ba528153-0350-4a42-9455-ccfc8db88ea5",
   "metadata": {},
   "source": [
    "The threading module in Python is used to handle threads and provides a higher-level interface for working with threads compared to the lower-level thread module. It simplifies the process of creating and managing threads in Python programs."
   ]
  },
  {
   "cell_type": "markdown",
   "id": "175a0713-dbda-4d15-896e-6142b5d766fa",
   "metadata": {},
   "source": [
    "activeCount(): This function returns the number of currently active threads in the program. It gives the count of threads that are currently alive and executing."
   ]
  },
  {
   "cell_type": "markdown",
   "id": "f8d38627-7a77-46cf-930e-261d3232179a",
   "metadata": {},
   "source": [
    "currentThread(): This function returns the currently executing thread object. It allows you to obtain a reference to the thread object representing the thread in which the function is called."
   ]
  },
  {
   "cell_type": "markdown",
   "id": "99d55d5e-197f-4ab8-a5da-29ccc9e4fb1b",
   "metadata": {},
   "source": [
    "enumerate(): This function returns a list of all currently active Thread objects. It allows you to obtain a list of all threads currently alive in the program."
   ]
  },
  {
   "cell_type": "code",
   "execution_count": null,
   "id": "82bdfcbf-e249-4901-b1d2-8794e616058d",
   "metadata": {},
   "outputs": [],
   "source": [
    "3. Explain the following functions\n",
    "run()\n",
    "start()\n",
    "join()\n",
    "isAlive()"
   ]
  },
  {
   "cell_type": "markdown",
   "id": "a286f015-8a80-407d-9253-00d41d302474",
   "metadata": {},
   "source": [
    "run(): The run() function is the entry point for the thread's activity. It is the method that is executed when the start() method is called on a Thread object"
   ]
  },
  {
   "cell_type": "markdown",
   "id": "ef374a0f-2db2-4bf5-807e-3f011c769ba1",
   "metadata": {},
   "source": [
    "start(): The start() method is used to start the execution of a thread. It creates a new thread of execution and calls the run() method of the thread. The start() method returns immediately, and the thread begins its execution in parallel with the main thread or other threads."
   ]
  },
  {
   "cell_type": "markdown",
   "id": "e85526fc-03a5-4230-a2a2-0c9c38239e2d",
   "metadata": {},
   "source": [
    "join(): The join() method is used to wait for a thread to complete its execution. When the join() method is called on a thread, the calling thread will pause and wait until the specified thread finishes its execution or until a timeout (if provided) is reached."
   ]
  },
  {
   "cell_type": "markdown",
   "id": "ebef833f-dda2-47f6-88f5-0d42bbca70a9",
   "metadata": {},
   "source": [
    "isAlive(): The isAlive() method is used to check if a thread is currently active and executing. It returns True if the thread is still running, and False otherwise."
   ]
  },
  {
   "cell_type": "markdown",
   "id": "5fd27cd9-5dab-4eee-b5d5-3a0320b67c3b",
   "metadata": {},
   "source": [
    "4. Write a python program to create two threads. Thread one must print the list of squares and thread\n",
    "two must print the list of cubes."
   ]
  },
  {
   "cell_type": "code",
   "execution_count": 1,
   "id": "e6115622-e3ec-4e3a-906d-be038d927f38",
   "metadata": {},
   "outputs": [
    {
     "name": "stdout",
     "output_type": "stream",
     "text": [
      "Square of 1: 1\n",
      "Square of 2: 4\n",
      "Square of 3: 9\n",
      "Square of 4: 16\n",
      "Square of 5: 25\n",
      "Square of 6: 36\n",
      "Square of 7: 49\n",
      "Square of 8: 64\n",
      "Square of 9: 81\n",
      "Square of 10: 100\n",
      "Cube of 1: 1\n",
      "Cube of 2: 8\n",
      "Cube of 3: 27\n",
      "Cube of 4: 64\n",
      "Cube of 5: 125\n",
      "Cube of 6: 216\n",
      "Cube of 7: 343\n",
      "Cube of 8: 512\n",
      "Cube of 9: 729\n",
      "Cube of 10: 1000\n",
      "Done!\n"
     ]
    }
   ],
   "source": [
    "import threading\n",
    "\n",
    "def print_squares():\n",
    "    for i in range(1, 11):\n",
    "        square = i * i\n",
    "        print(f\"Square of {i}: {square}\")\n",
    "\n",
    "def print_cubes():\n",
    "    for i in range(1, 11):\n",
    "        cube = i * i * i\n",
    "        print(f\"Cube of {i}: {cube}\")\n",
    "\n",
    "# Create the first thread for printing squares\n",
    "thread1 = threading.Thread(target=print_squares)\n",
    "\n",
    "# Create the second thread for printing cubes\n",
    "thread2 = threading.Thread(target=print_cubes)\n",
    "\n",
    "# Start both threads\n",
    "thread1.start()\n",
    "thread2.start()\n",
    "\n",
    "# Wait for both threads to finish\n",
    "thread1.join()\n",
    "thread2.join()\n",
    "\n",
    "print(\"Done!\")\n"
   ]
  },
  {
   "cell_type": "code",
   "execution_count": null,
   "id": "59f77862-d15f-4761-b219-3276596328cb",
   "metadata": {},
   "outputs": [],
   "source": [
    "5. State advantages and disadvantages of multithreading."
   ]
  },
  {
   "cell_type": "markdown",
   "id": "3b47b088-84a9-4f13-b760-2415da3ebb8e",
   "metadata": {},
   "source": [
    "Advantages of Multithreading:\n",
    "\n",
    "Improved Performance: Multithreading allows concurrent execution of multiple tasks within a single program, thereby utilizing available system resources more efficiently and potentially improving overall performance.\n",
    "\n",
    "Responsiveness and Interactivity: Multithreading can enhance the responsiveness of applications by keeping the user interface responsive while performing computationally intensive or time-consuming tasks in the background.\n",
    "\n",
    "Resource Sharing: Threads within a process can share resources such as memory, files, and network connections, eliminating the need for redundant copies and improving resource utilization.Advantages of Multithreading:\n",
    "\n",
    "Disadvantages of Multithreading:\n",
    "\n",
    "Complexity and Debugging: Multithreaded programs introduce complexities such as race conditions, deadlocks, and synchronization issues. Debugging and resolving such issues can be challenging, requiring careful design and testing.\n",
    "\n",
    "Increased Memory Usage: Each thread requires its own stack and resources, which can result in increased memory consumption compared to single-threaded programs.\n",
    "\n",
    "Difficulty in Reproducing Bugs: Multithreading can make it harder to reproduce and diagnose bugs because the behavior of a multithreaded program can be non-deterministic and dependent on various factors like scheduling and resource availability."
   ]
  },
  {
   "cell_type": "code",
   "execution_count": null,
   "id": "49c58fb5-e671-4860-80e8-751584dbc874",
   "metadata": {},
   "outputs": [],
   "source": [
    "6. Explain deadlocks and race conditions."
   ]
  },
  {
   "cell_type": "markdown",
   "id": "1528b59f-b653-491a-8ecb-2b0a8d81ad76",
   "metadata": {},
   "source": [
    "Deadlock:\n",
    "A deadlock occurs when two or more threads or processes are unable to proceed because each is waiting for the other to release a resource or terminate. In other words, it's a situation where threads are stuck in a cyclic dependency, resulting in a standstill. Deadlocks can lead to a complete halt in the execution of a program, requiring intervention to resolve the situation.\n",
    "\n",
    "Race Condition:\n",
    "A race condition occurs when the behavior of a program depends on the relative timing of events or operations. It arises when multiple threads or processes access shared resources concurrently, and the final outcome depends on the order of execution. The result of a race condition can be unpredictable and may lead to incorrect or unexpected behavior of the program. Race conditions typically occur when multiple threads are accessing and modifying shared data without proper synchronization or coordination mechanisms in place."
   ]
  }
 ],
 "metadata": {
  "kernelspec": {
   "display_name": "Python 3 (ipykernel)",
   "language": "python",
   "name": "python3"
  },
  "language_info": {
   "codemirror_mode": {
    "name": "ipython",
    "version": 3
   },
   "file_extension": ".py",
   "mimetype": "text/x-python",
   "name": "python",
   "nbconvert_exporter": "python",
   "pygments_lexer": "ipython3",
   "version": "3.10.8"
  }
 },
 "nbformat": 4,
 "nbformat_minor": 5
}
