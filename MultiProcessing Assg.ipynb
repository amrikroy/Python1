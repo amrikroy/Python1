{
 "cells": [
  {
   "cell_type": "code",
   "execution_count": null,
   "id": "3476383e-49f7-4f39-8ce0-6c3b72f856f6",
   "metadata": {},
   "outputs": [],
   "source": [
    "Q1. What is multiprocessing in python? Why is it useful?"
   ]
  },
  {
   "cell_type": "markdown",
   "id": "6fd0ea99-f9c0-46e7-b56d-3763d63c3fe0",
   "metadata": {},
   "source": [
    "\n",
    "Multiprocessing in Python allows running multiple processes concurrently, utilizing multiple processor cores. It is useful because it improves performance by distributing the workload across cores, increases efficiency for CPU-bound tasks, and enables parallelism for faster execution of computationally intensive tasks."
   ]
  },
  {
   "cell_type": "code",
   "execution_count": null,
   "id": "2012f8dd-56d5-4126-a75f-d3631c696fcd",
   "metadata": {},
   "outputs": [],
   "source": [
    "Q2. What are the differences between multiprocessing and multithreading?"
   ]
  },
  {
   "cell_type": "markdown",
   "id": "8c768fe7-3fed-4dd2-962e-391ea4d5013b",
   "metadata": {},
   "source": [
    "Execution model: Multiprocessing involves running multiple processes simultaneously, each with its own memory space. Multithreading, on the other hand, involves running multiple threads within a single process, sharing the same memory space.\n",
    "\n",
    "Concurrency: In multiprocessing, processes can execute independently and concurrently, making use of multiple processor cores. In multithreading, threads run concurrently within a single process, sharing the CPU time.\n",
    "\n",
    "Memory and data sharing: Processes in multiprocessing have separate memory spaces, and communication between them requires explicit inter-process communication mechanisms like pipes or queues. In multithreading, threads share the same memory space, making it easier to share data between them.\n",
    "\n",
    "Performance: Multiprocessing is suitable for CPU-bound tasks, as it can fully utilize multiple processor cores, resulting in improved performance. Multithreading is more suitable for I/O-bound tasks, as threads can overlap I/O operations while waiting for data, thus maximizing CPU utilization.\n",
    "\n",
    "Complexity and overhead: Multiprocessing typically has higher overhead due to the need for inter-process communication and memory management. Multithreading has lower overhead since threads share the same memory space and have lightweight context switching."
   ]
  },
  {
   "cell_type": "code",
   "execution_count": null,
   "id": "1ef062de-db26-47c9-87cf-0a91f0b8414f",
   "metadata": {},
   "outputs": [],
   "source": [
    "Q3. Write a python code to create a process using the multiprocessing module."
   ]
  },
  {
   "cell_type": "code",
   "execution_count": 1,
   "id": "abe7f9fc-8599-4282-ac62-f42e756b1d6b",
   "metadata": {},
   "outputs": [
    {
     "name": "stdout",
     "output_type": "stream",
     "text": [
      "Executing process task.\n",
      "Process finished.\n"
     ]
    }
   ],
   "source": [
    "import multiprocessing\n",
    "\n",
    "def process_task():\n",
    "    \"\"\"This is the task that will be executed by the process.\"\"\"\n",
    "    print(\"Executing process task.\")\n",
    "\n",
    "if __name__ == '__main__':\n",
    "    # Create a new process\n",
    "    process = multiprocessing.Process(target=process_task)\n",
    "\n",
    "    # Start the process\n",
    "    process.start()\n",
    "\n",
    "    # Wait for the process to finish\n",
    "    process.join()\n",
    "\n",
    "    print(\"Process finished.\")\n"
   ]
  },
  {
   "cell_type": "code",
   "execution_count": null,
   "id": "d6b76455-48ec-4193-8dff-2734eb1bdf5e",
   "metadata": {},
   "outputs": [],
   "source": [
    "Q4. What is a multiprocessing pool in python? Why is it used?"
   ]
  },
  {
   "cell_type": "markdown",
   "id": "c4db449c-203e-45a8-8937-4442f703aded",
   "metadata": {},
   "source": [
    "A multiprocessing pool in Python is a feature provided by the multiprocessing module that allows you to create a pool of worker processes. The pool manages a set of worker processes, distributing tasks among them, and returning the results.\n",
    "\n",
    "Here's a brief summary of why multiprocessing pools are used:\n",
    "\n",
    "Task distribution: The pool distributes tasks among the worker processes, automatically dividing the workload and assigning tasks to available workers. This helps in parallelizing tasks and utilizing multiple processors efficiently.\n",
    "\n",
    "Process reuse: Instead of creating and terminating a process for each individual task, a pool of worker processes can be created and reused for multiple tasks. This reduces the overhead of process creation and termination, resulting in improved performance.\n",
    "\n",
    "Result management: The pool provides mechanisms to collect and manage the results of the executed tasks. It allows you to retrieve the results in the order of completion or in the order of task submission, making it easier to process the results as needed."
   ]
  },
  {
   "cell_type": "code",
   "execution_count": null,
   "id": "f34a5a5c-bbef-41f1-998b-7a0465c00a76",
   "metadata": {},
   "outputs": [],
   "source": [
    "Q5. How can we create a pool of worker processes in python using the multiprocessing module?"
   ]
  },
  {
   "cell_type": "markdown",
   "id": "b1101a77-044a-4b85-8353-c574f28ec451",
   "metadata": {},
   "source": [
    "To create a pool of worker processes in Python using the multiprocessing module, you can utilize the multiprocessing.Pool class. Here's a short summary of the steps involved:\n",
    "\n",
    "Import the multiprocessing module: Start by importing the multiprocessing module.\n",
    "\n",
    "Create a pool: Use the multiprocessing.Pool constructor to create a pool of worker processes. You can specify the number of processes in the pool using the processes argument.\n",
    "\n",
    "Submit tasks: Use the pool.apply() or pool.map() method to submit tasks to the pool. These methods automatically distribute the tasks among the worker processes in the pool.\n",
    "\n",
    "Collect results: If needed, use the returned results from the apply() or map() methods to retrieve the results of the executed tasks.\n",
    "\n",
    "Terminate the pool: After all tasks are completed, it is important to call the pool.close() method to indicate that no more tasks will be submitted to the pool. Then, use pool.join() to wait for all the worker processes to finish before terminating the pool."
   ]
  },
  {
   "cell_type": "code",
   "execution_count": null,
   "id": "683dfa86-f7b5-4d1f-82f3-a08410652d75",
   "metadata": {},
   "outputs": [],
   "source": [
    "Q6. Write a python program to create 4 processes, each process should print a different number using the\n",
    "multiprocessing module in python."
   ]
  },
  {
   "cell_type": "code",
   "execution_count": 2,
   "id": "cefe30c0-35ee-477a-8ad2-03ef58988be7",
   "metadata": {},
   "outputs": [
    {
     "name": "stdout",
     "output_type": "stream",
     "text": [
      "Process 1: 1\n",
      "Process 2: 2\n",
      "Process 3: 3\n",
      "Process 4: 4\n",
      "All processes finished.\n"
     ]
    }
   ],
   "source": [
    "import multiprocessing\n",
    "\n",
    "def print_number(number):\n",
    "    \"\"\"Function to print a number.\"\"\"\n",
    "    print(f\"Process {number}: {number}\")\n",
    "\n",
    "if __name__ == '__main__':\n",
    "    processes = []\n",
    "\n",
    "    for i in range(4):\n",
    "        # Create a new process\n",
    "        process = multiprocessing.Process(target=print_number, args=(i+1,))\n",
    "\n",
    "        # Add the process to the list\n",
    "        processes.append(process)\n",
    "\n",
    "        # Start the process\n",
    "        process.start()\n",
    "\n",
    "    # Wait for all processes to finish\n",
    "    for process in processes:\n",
    "        process.join()\n",
    "\n",
    "    print(\"All processes finished.\")\n"
   ]
  },
  {
   "cell_type": "code",
   "execution_count": null,
   "id": "66aec5a9-9e26-478a-9226-f6403c0ac0b5",
   "metadata": {},
   "outputs": [],
   "source": []
  }
 ],
 "metadata": {
  "kernelspec": {
   "display_name": "Python 3 (ipykernel)",
   "language": "python",
   "name": "python3"
  },
  "language_info": {
   "codemirror_mode": {
    "name": "ipython",
    "version": 3
   },
   "file_extension": ".py",
   "mimetype": "text/x-python",
   "name": "python",
   "nbconvert_exporter": "python",
   "pygments_lexer": "ipython3",
   "version": "3.10.8"
  }
 },
 "nbformat": 4,
 "nbformat_minor": 5
}
