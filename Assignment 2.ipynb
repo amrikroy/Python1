{
 "cells": [
  {
   "cell_type": "code",
   "execution_count": null,
   "id": "a84aafb4-c8a2-4b59-83fa-3ff17a002d35",
   "metadata": {},
   "outputs": [],
   "source": [
    "#Q1. How do you comment code in Python? What are the different types of comments?"
   ]
  },
  {
   "cell_type": "code",
   "execution_count": null,
   "id": "aff0b649-ff9a-4711-baac-caa2f8086916",
   "metadata": {},
   "outputs": [],
   "source": [
    "There are two main types of comments in Python:\n",
    "Single-line comments: Single-line comments begin with the hash symbol and continue until the end of the line.\n",
    "They are typically used for short comments or explanations on the same line as the code.\n",
    "\n",
    "# Single line comments\n",
    "\n",
    "Multi-line comments: Multi-line comments, are used for longer explanations or documentation. \n",
    "They can span across multiple lines and are enclosed in triple quotes.\n",
    "'''multi\n",
    "line'''"
   ]
  },
  {
   "cell_type": "code",
   "execution_count": null,
   "id": "374ae0d6-2cca-41e5-b45a-ab7e2b216649",
   "metadata": {},
   "outputs": [],
   "source": [
    "#Q2. What are variables in Python? How do you declare and assign values to variables?"
   ]
  },
  {
   "cell_type": "code",
   "execution_count": null,
   "id": "1d2f18ee-0270-4aca-8239-81425731a5f1",
   "metadata": {},
   "outputs": [],
   "source": [
    "Variables are used to store values that can be accessed and manipulated throughout the program. \n",
    "A variable is essentially a name that represents a memory location where the value is stored.\n",
    "\n",
    "variable_name = value\n"
   ]
  },
  {
   "cell_type": "code",
   "execution_count": null,
   "id": "8dc9d08d-b748-4cfb-8838-4cadbd7e2b70",
   "metadata": {},
   "outputs": [],
   "source": [
    "#Q3. How do you convert one data type to another in Python?"
   ]
  },
  {
   "cell_type": "code",
   "execution_count": null,
   "id": "7ab9018f-57e9-40f3-aef4-a736383ad525",
   "metadata": {},
   "outputs": [],
   "source": [
    "We can convert one data type to another using type conversion functions or methods. or commonly typecasting"
   ]
  },
  {
   "cell_type": "code",
   "execution_count": null,
   "id": "83bd0116-8e3b-4788-bc70-ff0b0da73e63",
   "metadata": {},
   "outputs": [],
   "source": [
    "#Q4. How do you write and execute a Python script from the command line?"
   ]
  },
  {
   "cell_type": "code",
   "execution_count": null,
   "id": "75e4f204-7f97-4ce6-9d2b-5a136b07a262",
   "metadata": {},
   "outputs": [],
   "source": [
    "To run Python scripts with the python command, we need to open a command-line and type in the word python , or python3\n",
    "followed by the path to our script"
   ]
  },
  {
   "cell_type": "code",
   "execution_count": null,
   "id": "dc76740b-4b1d-4a79-814c-ba2c416498cf",
   "metadata": {},
   "outputs": [],
   "source": [
    "#Q5. Given a list my_list = [1, 2, 3, 4, 5], write the code to slice the list and obtain the sub-list [2, 3]."
   ]
  },
  {
   "cell_type": "code",
   "execution_count": 2,
   "id": "e9691914-f814-4c36-9534-17c611311525",
   "metadata": {},
   "outputs": [],
   "source": [
    "my_list =[1,2,3,4,5]\n",
    "sub_list= my_list[1:3]"
   ]
  },
  {
   "cell_type": "code",
   "execution_count": 4,
   "id": "14763cc7-f509-4730-aac9-22df9470bebd",
   "metadata": {},
   "outputs": [
    {
     "data": {
      "text/plain": [
       "[2, 3]"
      ]
     },
     "execution_count": 4,
     "metadata": {},
     "output_type": "execute_result"
    }
   ],
   "source": [
    "sub_list"
   ]
  },
  {
   "cell_type": "code",
   "execution_count": null,
   "id": "cd6b640c-e848-447b-8808-6b7ceeda3f0a",
   "metadata": {},
   "outputs": [],
   "source": [
    "#Q6. What is a complex number in mathematics, and how is it represented in Python?"
   ]
  },
  {
   "cell_type": "code",
   "execution_count": null,
   "id": "44b82ac3-273d-4357-801e-d1196b255cf4",
   "metadata": {},
   "outputs": [],
   "source": [
    "In mathematics, a complex number is a number that comprises a real part and an imaginary part. It is expressed in the form a + bi.\n",
    "In Python, complex numbers are a built-in data type. They are represented by using the j or J suffix to denote the imaginary part. \n",
    "\n",
    "z1 = 2 + 3j\n",
    "z2 = 4.5 - 1j\n",
    "z3 = -1j\n"
   ]
  },
  {
   "cell_type": "code",
   "execution_count": null,
   "id": "50d3bf2d-8512-4c21-8887-b89b5b87a145",
   "metadata": {},
   "outputs": [],
   "source": [
    "#Q7 .What is the correct way to declare a variable named age and assign the value 25 to it?"
   ]
  },
  {
   "cell_type": "code",
   "execution_count": 1,
   "id": "9f990afb-ed64-4d42-8082-355cc62b4644",
   "metadata": {},
   "outputs": [],
   "source": [
    "age = 25\n"
   ]
  },
  {
   "cell_type": "code",
   "execution_count": 2,
   "id": "274e0c97-97fe-4f7a-9653-6e02e19a4ed1",
   "metadata": {},
   "outputs": [],
   "source": [
    "#Q8. Declare a variable named price and assign the value 9.99 to it. What data type does this variable\n",
    "#belong to?"
   ]
  },
  {
   "cell_type": "code",
   "execution_count": 3,
   "id": "ecb82a7e-c73c-4d60-ba7c-47b82b100e08",
   "metadata": {},
   "outputs": [
    {
     "data": {
      "text/plain": [
       "float"
      ]
     },
     "execution_count": 3,
     "metadata": {},
     "output_type": "execute_result"
    }
   ],
   "source": [
    "price = 9.99\n",
    "type(price)"
   ]
  },
  {
   "cell_type": "code",
   "execution_count": 4,
   "id": "65dbd544-25d4-4b61-8ae9-ee0c0f62a33c",
   "metadata": {},
   "outputs": [],
   "source": [
    "#Q9. Create a variable named name and assign your full name to it as a string. How would you print the\n",
    "#value of this variable?"
   ]
  },
  {
   "cell_type": "code",
   "execution_count": 5,
   "id": "b9837088-52cd-49bb-b764-6ff964687966",
   "metadata": {},
   "outputs": [
    {
     "name": "stdout",
     "output_type": "stream",
     "text": [
      "Amrik Roy\n"
     ]
    }
   ],
   "source": [
    "name = 'Amrik Roy'\n",
    "print(name)"
   ]
  },
  {
   "cell_type": "code",
   "execution_count": 6,
   "id": "270d756e-1b55-4f4c-a4e0-40f7b5baa200",
   "metadata": {},
   "outputs": [],
   "source": [
    "#Q10. Given the string \"Hello, World!\", extract the substring \"World\"."
   ]
  },
  {
   "cell_type": "code",
   "execution_count": 10,
   "id": "27e6f999-f9f3-424d-8120-a48ff8e75320",
   "metadata": {},
   "outputs": [
    {
     "name": "stdout",
     "output_type": "stream",
     "text": [
      "World\n"
     ]
    }
   ],
   "source": [
    "string = 'Hello, World!'\n",
    "sub_string = string[7:12]\n",
    "print(sub_string)"
   ]
  },
  {
   "cell_type": "code",
   "execution_count": 11,
   "id": "d1235e66-c19c-4072-aa95-0e73cf32ce6f",
   "metadata": {},
   "outputs": [],
   "source": [
    "#Q11. Create a variable named \"is_student\" and assign it a boolean value indicating whether you are\n",
    "#currently a student or not."
   ]
  },
  {
   "cell_type": "code",
   "execution_count": 30,
   "id": "3322543a-d8fa-4c6e-841c-6f70b855a74b",
   "metadata": {},
   "outputs": [
    {
     "ename": "TypeError",
     "evalue": "'bool' object is not callable",
     "output_type": "error",
     "traceback": [
      "\u001b[0;31m---------------------------------------------------------------------------\u001b[0m",
      "\u001b[0;31mTypeError\u001b[0m                                 Traceback (most recent call last)",
      "Cell \u001b[0;32mIn[30], line 2\u001b[0m\n\u001b[1;32m      1\u001b[0m is_student \u001b[38;5;241m==\u001b[39m \u001b[38;5;28;01mTrue\u001b[39;00m\n\u001b[0;32m----> 2\u001b[0m \u001b[38;5;28;43mprint\u001b[39;49m\u001b[43m(\u001b[49m\u001b[38;5;124;43m'\u001b[39;49m\u001b[38;5;124;43mcurrently a student\u001b[39;49m\u001b[38;5;124;43m'\u001b[39;49m\u001b[43m)\u001b[49m\n",
      "\u001b[0;31mTypeError\u001b[0m: 'bool' object is not callable"
     ]
    }
   ],
   "source": [
    "is_student = True\n"
   ]
  },
  {
   "cell_type": "code",
   "execution_count": null,
   "id": "3e8e6dd7-fc9b-4890-a0e5-74d23d622c89",
   "metadata": {},
   "outputs": [],
   "source": []
  }
 ],
 "metadata": {
  "kernelspec": {
   "display_name": "Python 3 (ipykernel)",
   "language": "python",
   "name": "python3"
  },
  "language_info": {
   "codemirror_mode": {
    "name": "ipython",
    "version": 3
   },
   "file_extension": ".py",
   "mimetype": "text/x-python",
   "name": "python",
   "nbconvert_exporter": "python",
   "pygments_lexer": "ipython3",
   "version": "3.10.8"
  }
 },
 "nbformat": 4,
 "nbformat_minor": 5
}
