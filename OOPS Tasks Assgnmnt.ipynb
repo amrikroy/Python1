{
 "cells": [
  {
   "cell_type": "markdown",
   "id": "4a10ccee-b551-4384-93cd-3eb6510b7806",
   "metadata": {},
   "source": [
    "Q1, Create a vehicle class with an init method having instance variables as name_of_vehicle, max_speed\n",
    "and average_of_vehicle."
   ]
  },
  {
   "cell_type": "code",
   "execution_count": 5,
   "id": "c8f0211c-ed16-4020-b1e4-e802b078979d",
   "metadata": {},
   "outputs": [],
   "source": [
    "class vehicle:\n",
    "    def __init__(self, name_of_vehicle, max_speed, average_of_vehicle):\n",
    "        self.name_of_vehicle = name_of_vehicle\n",
    "        self.max_speed = max_speed\n",
    "        self.average_of_vehicle = average_of_vehicle\n",
    "    "
   ]
  },
  {
   "cell_type": "code",
   "execution_count": 6,
   "id": "fb2d1a1a-52c1-4128-b7d6-6604d8930bed",
   "metadata": {},
   "outputs": [
    {
     "name": "stdout",
     "output_type": "stream",
     "text": [
      "Thar\n",
      "200\n",
      "20\n"
     ]
    }
   ],
   "source": [
    "car = vehicle('Thar', 200, 20)\n",
    "print(car.name_of_vehicle)\n",
    "print(car.max_speed)\n",
    "print(car.average_of_vehicle)"
   ]
  },
  {
   "cell_type": "markdown",
   "id": "d1d903f4-cf53-459f-8ac6-f830beca42ce",
   "metadata": {},
   "source": [
    "Q2. Create a child class car from the vehicle class created in Que 1, which will inherit the vehicle class.\n",
    "Create a method named seating_capacity which takes capacity as an argument and returns the name of\n",
    "the vehicle and its seating capacity."
   ]
  },
  {
   "cell_type": "code",
   "execution_count": 25,
   "id": "517df0a6-9dbe-4bf3-a52f-4f8a99e387f1",
   "metadata": {},
   "outputs": [],
   "source": [
    "class Car(vehicle):\n",
    "    def seating_capacity(self, capacity):\n",
    "        return f\"{self.name_of_vehicle} - Seating Capacity: {capacity}\"\n"
   ]
  },
  {
   "cell_type": "code",
   "execution_count": 26,
   "id": "92e5e67b-3ae3-4df6-83ce-b2722deaa323",
   "metadata": {},
   "outputs": [
    {
     "name": "stdout",
     "output_type": "stream",
     "text": [
      "Sedan - Seating Capacity: 5\n"
     ]
    }
   ],
   "source": [
    "car = Car(\"Sedan\", 200, 40)\n",
    "print(car.seating_capacity(5))\n"
   ]
  },
  {
   "cell_type": "markdown",
   "id": "41546611-cb73-4b1d-bcd1-c24985b0495a",
   "metadata": {},
   "source": [
    "Q3. What is multiple inheritance? Write a python code to demonstrate multiple inheritance."
   ]
  },
  {
   "cell_type": "markdown",
   "id": "2a705666-cd03-448c-8d88-35caa60e8559",
   "metadata": {},
   "source": [
    "Multiple inheritance is a feature in object-oriented programming languages where a class can inherit attributes and behaviors from multiple parent classes. In other words, a class can have more than one base class, allowing it to inherit properties from all of them."
   ]
  },
  {
   "cell_type": "code",
   "execution_count": 28,
   "id": "cf0dab78-ae4b-42cc-befe-88a9e0ce3544",
   "metadata": {},
   "outputs": [],
   "source": [
    "class A:\n",
    "    def method_a(self):\n",
    "        print(\"method A\")\n",
    "        \n",
    "class B:\n",
    "    def method_b(self):\n",
    "        print(\"method B\")\n",
    "        \n",
    "class C(A, B):\n",
    "    def method_c(self):\n",
    "        print(\"method C\")\n",
    "    "
   ]
  },
  {
   "cell_type": "code",
   "execution_count": 29,
   "id": "b33ca754-5025-4e52-b60d-5a3e509441db",
   "metadata": {},
   "outputs": [
    {
     "name": "stdout",
     "output_type": "stream",
     "text": [
      "method A\n",
      "method B\n",
      "method C\n"
     ]
    }
   ],
   "source": [
    "obj = C()\n",
    "obj.method_a()\n",
    "obj.method_b()\n",
    "obj.method_c()"
   ]
  },
  {
   "cell_type": "markdown",
   "id": "d9f037b4-c413-4b2a-ac7b-05de738669e1",
   "metadata": {},
   "source": [
    "Q4. What are getter and setter in python? Create a class and create a getter and a setter method in this\n",
    "class."
   ]
  },
  {
   "cell_type": "markdown",
   "id": "f24daf86-1bfa-426c-a874-d8a477a38e96",
   "metadata": {},
   "source": [
    "In Python, getter and setter methods are used to access and modify the attributes of a class in a controlled manner. They allow us to enforce encapsulation and provide a way to get and set the values of private attributes."
   ]
  },
  {
   "cell_type": "code",
   "execution_count": 14,
   "id": "674b7a7a-5a18-4835-8976-b13a31abfd2b",
   "metadata": {},
   "outputs": [],
   "source": [
    "class ExampleClass:\n",
    "    def __init__(self):\n",
    "        self._value = None\n",
    "\n",
    "    def get_value(self):\n",
    "        return self._value\n",
    "\n",
    "    def set_value(self, new_value):\n",
    "        self._value = new_value\n"
   ]
  },
  {
   "cell_type": "code",
   "execution_count": 17,
   "id": "0213d441-1b44-437d-af9a-d0803f574d9b",
   "metadata": {},
   "outputs": [
    {
     "name": "stdout",
     "output_type": "stream",
     "text": [
      "None\n",
      "42\n"
     ]
    }
   ],
   "source": [
    "example = ExampleClass()\n",
    "\n",
    "current_value = example.get_value()\n",
    "print(current_value)\n",
    "\n",
    "example.set_value(42)\n",
    "current_value = example.get_value()\n",
    "print(current_value)\n"
   ]
  },
  {
   "cell_type": "markdown",
   "id": "c234a68e-925f-45e2-be3a-e3364cd990bc",
   "metadata": {},
   "source": [
    "Q5.What is method overriding in python? Write a python code to demonstrate method overriding."
   ]
  },
  {
   "cell_type": "markdown",
   "id": "41641698-c3a1-4417-93ab-c3e56b5175e7",
   "metadata": {},
   "source": [
    "Method overriding is a feature in object-oriented programming that allows a subclass to provide a different implementation of a method that is already defined in its superclass. When a method is overridden, the subclass provides its own implementation of the method, which is executed instead of the superclass's implementation when the method is called on an instance of the subclass."
   ]
  },
  {
   "cell_type": "code",
   "execution_count": null,
   "id": "99cc93ac-4fb5-41ae-8b9e-be1d1ac3e355",
   "metadata": {},
   "outputs": [],
   "source": [
    "class Animal:\n",
    "    def make_sound(self):\n",
    "        print(\"The animal makes a sound.\")\n",
    "\n",
    "\n",
    "class Dog(Animal):\n",
    "    def make_sound(self):\n",
    "        print(\"The dog barks.\")\n",
    "\n",
    "\n",
    "# Create an instance of Dog\n",
    "dog = Dog()\n",
    "\n",
    "# Call the overridden method\n",
    "dog.make_sound()\n"
   ]
  }
 ],
 "metadata": {
  "kernelspec": {
   "display_name": "Python 3 (ipykernel)",
   "language": "python",
   "name": "python3"
  },
  "language_info": {
   "codemirror_mode": {
    "name": "ipython",
    "version": 3
   },
   "file_extension": ".py",
   "mimetype": "text/x-python",
   "name": "python",
   "nbconvert_exporter": "python",
   "pygments_lexer": "ipython3",
   "version": "3.10.8"
  }
 },
 "nbformat": 4,
 "nbformat_minor": 5
}
