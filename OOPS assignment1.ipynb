{
 "cells": [
  {
   "cell_type": "markdown",
   "id": "1dd2f011-7068-4de6-8a5b-7b0cfa2ea7cd",
   "metadata": {},
   "source": [
    "Q1. Explain Class and Object with respect to Object-Oriented Programming. Give a suitable example."
   ]
  },
  {
   "cell_type": "markdown",
   "id": "000e0db2-7117-413c-a656-fffedb427759",
   "metadata": {},
   "source": [
    "In object-oriented programming (OOP), a class is a blueprint or template that defines the attributes (data) and behaviors (methods) of a particular type of object. It serves as a blueprint for creating instances or objects of that class.\n",
    "\n",
    "An object, on the other hand, is an instance of a class. It is a concrete realization of the class, with its own unique set of data values and the ability to perform actions defined by the class's methods."
   ]
  },
  {
   "cell_type": "code",
   "execution_count": 2,
   "id": "b8b13f89-4a7a-41f6-abc8-b2903a3d5325",
   "metadata": {},
   "outputs": [
    {
     "name": "stdout",
     "output_type": "stream",
     "text": [
      "Toyota\n",
      "Red\n",
      "Engine started!\n",
      "Car is accelerating...\n",
      "Car is turning left\n"
     ]
    }
   ],
   "source": [
    "class Car:\n",
    "    def __init__(self, make, model, color, year):\n",
    "        self.make = make\n",
    "        self.model = model\n",
    "        self.color = color\n",
    "        self.year = year\n",
    "    \n",
    "    def start_engine(self):\n",
    "        print(\"Engine started!\")\n",
    "    \n",
    "    def accelerate(self):\n",
    "        print(\"Car is accelerating...\")\n",
    "    \n",
    "    def brake(self):\n",
    "        print(\"Car is braking...\")\n",
    "    \n",
    "    def turn(self, direction):\n",
    "        print(\"Car is turning\", direction)\n",
    "\n",
    "# Creating instances of the Car class\n",
    "myCar = Car(\"Toyota\", \"Camry\", \"Silver\", 2020)\n",
    "friendCar = Car(\"Ford\", \"Mustang\", \"Red\", 2018)\n",
    "\n",
    "# Accessing attributes of the objects\n",
    "print(myCar.make)   \n",
    "print(friendCar.color)  \n",
    "\n",
    "# Invoking methods of the objects\n",
    "myCar.start_engine()   \n",
    "friendCar.accelerate()   \n",
    "friendCar.turn(\"left\")   \n"
   ]
  },
  {
   "cell_type": "markdown",
   "id": "4e127822-ef21-4dfb-9fbc-ed5cfe79d473",
   "metadata": {},
   "source": [
    "Q2. Name the four pillars of OOPs."
   ]
  },
  {
   "cell_type": "markdown",
   "id": "635f8540-351c-4cb3-a297-c7fcb98e5c4c",
   "metadata": {},
   "source": [
    "The four pillars of object-oriented programming (OOP) are:\n",
    "\n",
    "Encapsulation: Bundling data and methods together within a class, hiding internal details, and providing access through interfaces.\n",
    "Inheritance: Creating new classes based on existing ones, inheriting attributes and behaviors, promoting code reuse and hierarchy.\n",
    "Polymorphism: Objects of different classes can respond differently to the same method, allowing flexibility and code reuse.\n",
    "Abstraction: Simplifying complex systems by defining essential behavior and properties, hiding implementation details.\n",
    "These pillars provide principles for designing modular, scalable, and maintainable software systems, enhancing code organization, reusability, and flexibility."
   ]
  },
  {
   "cell_type": "markdown",
   "id": "fccb2df3-5ae6-4e25-bd14-be6efbcb14ae",
   "metadata": {},
   "source": [
    "Q3. Explain why the __init__() function is used. Give a suitable example."
   ]
  },
  {
   "cell_type": "markdown",
   "id": "5ed3ff31-0f29-45d5-a383-5fde205a15a0",
   "metadata": {},
   "source": [
    "The __init__() function is a special method in Python classes that is automatically called when an object of that class is created. It stands for \"initialize\" and is used to initialize the attributes of the object. The primary purpose of the __init__() method is to set up the initial state of the object by assigning values to its attributes."
   ]
  },
  {
   "cell_type": "code",
   "execution_count": 3,
   "id": "5a46e565-710a-403e-bcb2-33ccb21c0fa3",
   "metadata": {},
   "outputs": [
    {
     "name": "stdout",
     "output_type": "stream",
     "text": [
      "Hello, my name is Amrik and I am 25 years old.\n",
      "Hello, my name is Roy and I am 30 years old.\n"
     ]
    }
   ],
   "source": [
    "class Person:\n",
    "    def __init__(self, name, age):\n",
    "        self.name = name\n",
    "        self.age = age\n",
    "\n",
    "    def introduce(self):\n",
    "        print(\"Hello, my name is\", self.name, \"and I am\", self.age, \"years old.\")\n",
    "\n",
    "# Creating instances of the Person class\n",
    "person1 = Person(\"Amrik\", 25)\n",
    "person2 = Person(\"Roy\", 30)\n",
    "\n",
    "# Accessing attributes and invoking methods\n",
    "person1.introduce()   \n",
    "person2.introduce()   \n"
   ]
  },
  {
   "cell_type": "markdown",
   "id": "af935c08-91b0-48dd-a482-3ac472f5aa7b",
   "metadata": {},
   "source": [
    "Q4. Why self is used in OOPs?"
   ]
  },
  {
   "cell_type": "markdown",
   "id": "6e384e33-de4d-4d8d-b95a-82e08bdeb072",
   "metadata": {},
   "source": [
    "\n",
    "In object-oriented programming (OOP), the self keyword is used to refer to the instance of a class. It allows the object to access its own attributes and methods within class definitions. self enables proper encapsulation, object identification, and facilitates method invocation on specific instances."
   ]
  },
  {
   "cell_type": "markdown",
   "id": "fb92fb1d-ad53-48b2-ad69-98c22cffa352",
   "metadata": {},
   "source": [
    "Q5. What is inheritance? Give an example for each type of inheritance."
   ]
  },
  {
   "cell_type": "markdown",
   "id": "5936f952-b10e-4d84-aa80-543e7456de23",
   "metadata": {},
   "source": [
    "\n",
    "Inheritance is a core principle in object-oriented programming (OOP) that allows new classes to be created based on existing classes. It enables the derived classes (subclasses) to inherit attributes and methods from the base classes (superclasses), promoting code reuse and hierarchy."
   ]
  },
  {
   "cell_type": "markdown",
   "id": "58fc7900-e095-4fba-bb11-caf49ecf4796",
   "metadata": {},
   "source": [
    "example for each type of inheritance:\n",
    "\n",
    "Single Inheritance: A derived class inherits from a single base class. Example: class Square(Rectangle), where the Square class inherits from the Rectangle class.\n",
    "\n",
    "Multiple Inheritance: A derived class inherits from multiple base classes. Example: class Manager(Employee, Leader), where the Manager class inherits from both the Employee and Leader classes.\n",
    "\n",
    "Multilevel Inheritance: A derived class is derived from another derived class. Example: class Grandchild(Child), where the Grandchild class is derived from the Child class, which is itself derived from a base class."
   ]
  },
  {
   "cell_type": "code",
   "execution_count": null,
   "id": "49f17dd4-9b86-49e8-a1c6-d4644de53621",
   "metadata": {},
   "outputs": [],
   "source": []
  }
 ],
 "metadata": {
  "kernelspec": {
   "display_name": "Python 3 (ipykernel)",
   "language": "python",
   "name": "python3"
  },
  "language_info": {
   "codemirror_mode": {
    "name": "ipython",
    "version": 3
   },
   "file_extension": ".py",
   "mimetype": "text/x-python",
   "name": "python",
   "nbconvert_exporter": "python",
   "pygments_lexer": "ipython3",
   "version": "3.10.8"
  }
 },
 "nbformat": 4,
 "nbformat_minor": 5
}
