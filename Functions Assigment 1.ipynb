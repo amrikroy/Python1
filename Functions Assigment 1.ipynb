{
 "cells": [
  {
   "cell_type": "markdown",
   "id": "43730bf3-c042-4ca7-88cd-d91664da46a0",
   "metadata": {},
   "source": [
    "Q1. Which keyword is used to create a function? Create a function to return a list of odd numbers in the\n",
    " range of 1 to 25."
   ]
  },
  {
   "cell_type": "code",
   "execution_count": null,
   "id": "edf4e59c-0461-4a8d-b6e5-a69e7f9312ed",
   "metadata": {},
   "outputs": [],
   "source": [
    "The keyword used to create a function is \"def\"."
   ]
  },
  {
   "cell_type": "code",
   "execution_count": 8,
   "id": "97d3efde-ac37-4d81-9609-8c807ca58e6b",
   "metadata": {},
   "outputs": [],
   "source": [
    "def get_odd_numbers():\n",
    "    odd_numbers = []\n",
    "    for num in range(1,26):\n",
    "        if num % 2 !=0:\n",
    "            odd_numbers.append(num)\n",
    "    return(odd_numbers)\n",
    "    "
   ]
  },
  {
   "cell_type": "code",
   "execution_count": 10,
   "id": "e723ee1f-62bb-43fe-95fc-cc14112dc5b2",
   "metadata": {},
   "outputs": [
    {
     "data": {
      "text/plain": [
       "[1, 3, 5, 7, 9, 11, 13, 15, 17, 19, 21, 23, 25]"
      ]
     },
     "execution_count": 10,
     "metadata": {},
     "output_type": "execute_result"
    }
   ],
   "source": [
    "get_odd_numbers()"
   ]
  },
  {
   "cell_type": "markdown",
   "id": "399212e0-ef93-4480-9af6-65959487663e",
   "metadata": {},
   "source": [
    "Q2. Why *args and **kwargs is used in some functions? Create a function each for *args and **kwargs\n",
    "to demonstrate their use."
   ]
  },
  {
   "cell_type": "code",
   "execution_count": null,
   "id": "9d188342-1390-4a79-8191-5c842cb13721",
   "metadata": {},
   "outputs": [],
   "source": [
    "*args allows passing a variable number of non-keyword arguments to a function. It collects the arguments into a tuple."
   ]
  },
  {
   "cell_type": "code",
   "execution_count": null,
   "id": "e7f17858-1308-4b12-923c-576e6a37bb5a",
   "metadata": {},
   "outputs": [],
   "source": [
    "**kwargs allows passing a variable number of keyword arguments to a function. It collects the keyword arguments into a dictionary."
   ]
  },
  {
   "cell_type": "code",
   "execution_count": 17,
   "id": "e7b494ce-a836-4ba8-a55a-8fc004d99c6f",
   "metadata": {},
   "outputs": [],
   "source": [
    "##*args\n",
    "def sum_values(*args):\n",
    "    total = 0\n",
    "    for num in args:\n",
    "        total = total + num\n",
    "    return(total)"
   ]
  },
  {
   "cell_type": "code",
   "execution_count": 20,
   "id": "c254c536-635a-4652-83d2-db812908d98a",
   "metadata": {},
   "outputs": [
    {
     "name": "stdout",
     "output_type": "stream",
     "text": [
      "53\n"
     ]
    }
   ],
   "source": [
    "print(sum_values(2,3,1,22,1,5,4,5,5,5))"
   ]
  },
  {
   "cell_type": "code",
   "execution_count": 21,
   "id": "93db431d-0563-4661-8cad-095e3ed4a299",
   "metadata": {},
   "outputs": [],
   "source": [
    "# **kwargs\n",
    "def print_values(**kwargs):\n",
    "    for key, value in kwargs.items():\n",
    "        print(key + \": \" + str(value))"
   ]
  },
  {
   "cell_type": "code",
   "execution_count": 22,
   "id": "1d663142-de0a-49f7-847d-5b517b4f5af2",
   "metadata": {},
   "outputs": [
    {
     "name": "stdout",
     "output_type": "stream",
     "text": [
      "name: Amrik\n",
      "age: 24\n"
     ]
    }
   ],
   "source": [
    "print_values(name = 'Amrik', age = '24')"
   ]
  },
  {
   "cell_type": "markdown",
   "id": "a7c3e207-00ba-4e50-ba2f-dcfef960572f",
   "metadata": {},
   "source": [
    "Q3. What is an iterator in python? Name the method used to initialise the iterator object and the method\n",
    "used for iteration. Use these methods to print the first five elements of the given list [2, 4, 6, 8, 10, 12, 14,\n",
    "16, 18, 20]."
   ]
  },
  {
   "cell_type": "code",
   "execution_count": null,
   "id": "279a5c7f-0d63-4703-b2b6-dc02e08ca8d0",
   "metadata": {},
   "outputs": [],
   "source": [
    "In Python, an iterator is an object that allows iteration over a sequence of elements, such as a list or a string."
   ]
  },
  {
   "cell_type": "code",
   "execution_count": null,
   "id": "21840e82-145b-4672-958a-71d4a2e41b3e",
   "metadata": {},
   "outputs": [],
   "source": [
    "To create an iterator object in Python, we can use the iter() method, which takes an iterable object as an argument and returns an iterator object."
   ]
  },
  {
   "cell_type": "code",
   "execution_count": null,
   "id": "053f1771-4771-495b-80f7-64d21adc8fdb",
   "metadata": {},
   "outputs": [],
   "source": [
    "To iterate over the elements of an iterator, we can use the next() method, which retrieves the next element from the iterator."
   ]
  },
  {
   "cell_type": "code",
   "execution_count": 36,
   "id": "ece115e8-7c9a-4119-9d51-246390e3cb14",
   "metadata": {},
   "outputs": [
    {
     "name": "stdout",
     "output_type": "stream",
     "text": [
      "2\n",
      "4\n",
      "6\n",
      "8\n",
      "10\n"
     ]
    }
   ],
   "source": [
    "my_list = [2,4,6,8,10,12,14,16,18,20]\n",
    "my_iterator = iter(my_list)\n",
    "for i in range(5):\n",
    "    element = next(my_iterator)\n",
    "    print(element)"
   ]
  },
  {
   "cell_type": "markdown",
   "id": "a227a80b-b799-4349-af14-9a36a6c9822c",
   "metadata": {},
   "source": [
    "Q4. What is a generator function in python? Why yield keyword is used? Give an example of a generator\n",
    "function."
   ]
  },
  {
   "cell_type": "code",
   "execution_count": null,
   "id": "fd5eb6af-5b94-4b2f-987f-1a5fb7e206af",
   "metadata": {},
   "outputs": [],
   "source": [
    "In Python, a generator function is a special type of function that returns an iterator object called a generator."
   ]
  },
  {
   "cell_type": "code",
   "execution_count": null,
   "id": "c465a0e1-eedb-4be2-899b-69869db7d4cd",
   "metadata": {},
   "outputs": [],
   "source": [
    "The yield keyword essentially turns a function into a generator. A generator function uses yield to yield a value and temporarily suspend \n",
    "the function's execution."
   ]
  },
  {
   "cell_type": "code",
   "execution_count": 50,
   "id": "9592a3fb-afc9-43e8-b103-09073639b5f5",
   "metadata": {},
   "outputs": [
    {
     "name": "stdout",
     "output_type": "stream",
     "text": [
      "2 4 6 8 10 12 "
     ]
    }
   ],
   "source": [
    "# generator function that generates a sequence of even numbers:\n",
    "\n",
    "\n",
    "def generate_even_num(n):\n",
    "    for num in range(2, n+1, 2):\n",
    "        yield num\n",
    "even_generator = generate_even_num(12)\n",
    "for num in even_generator:\n",
    "    print(num, end =  \" \")\n"
   ]
  },
  {
   "cell_type": "markdown",
   "id": "b4e770ab-2727-4054-b734-6b636d51b76b",
   "metadata": {},
   "source": [
    "Q5. Create a generator function for prime numbers less than 1000. Use the next() method to print the\n",
    "first 20 prime numbers."
   ]
  },
  {
   "cell_type": "code",
   "execution_count": 60,
   "id": "d742e7a3-de2c-46a4-867e-fc2355d41f1f",
   "metadata": {},
   "outputs": [
    {
     "name": "stdout",
     "output_type": "stream",
     "text": [
      "2 3 5 7 11 13 17 19 23 29 31 37 41 43 47 53 59 61 67 71 "
     ]
    }
   ],
   "source": [
    "def generate_prime_num():\n",
    "    primes = [] \n",
    "    num  = 2\n",
    "    while True:\n",
    "        if all(num % i != 0 for i in primes):\n",
    "            primes.append(num)\n",
    "            yield num\n",
    "        num = num + 1\n",
    "prime_generator = generate_prime_num()\n",
    "for i in range(20):\n",
    "    prime = next(prime_generator)\n",
    "    print(prime, end = ' ')\n",
    "\n",
    "            "
   ]
  },
  {
   "cell_type": "markdown",
   "id": "808e3094-6a33-4aa1-98a0-44949ccda62e",
   "metadata": {},
   "source": [
    "Q6. Write a python program to print the first 10 Fibonacci numbers using a while loop."
   ]
  },
  {
   "cell_type": "code",
   "execution_count": 13,
   "id": "51d80274-fcc6-4248-a612-9234aea36233",
   "metadata": {},
   "outputs": [],
   "source": [
    "def print_fibonacci():\n",
    "    count = 0\n",
    "    a = 0\n",
    "    b = 1\n",
    "    while count < 10:\n",
    "        print(a)\n",
    "        a, b = b , a + b\n",
    "        count = count + 1"
   ]
  },
  {
   "cell_type": "code",
   "execution_count": 14,
   "id": "018320c6-757c-4f0e-9072-927e367df741",
   "metadata": {},
   "outputs": [
    {
     "name": "stdout",
     "output_type": "stream",
     "text": [
      "0\n",
      "1\n",
      "1\n",
      "2\n",
      "3\n",
      "5\n",
      "8\n",
      "13\n",
      "21\n",
      "34\n"
     ]
    }
   ],
   "source": [
    "print_fibonacci()"
   ]
  },
  {
   "cell_type": "markdown",
   "id": "bff49156-a7f7-4cdb-b451-063647da7e64",
   "metadata": {},
   "source": [
    "Q7. Write a List Comprehension to iterate through the given string: ‘pwskills’.\n",
    "Expected output: ['p', 'w', 's', 'k', 'i', 'l', 'l', 's']"
   ]
  },
  {
   "cell_type": "code",
   "execution_count": 1,
   "id": "523dfd85-bcce-4463-9d3d-b9fdb71b0f89",
   "metadata": {},
   "outputs": [
    {
     "name": "stdout",
     "output_type": "stream",
     "text": [
      "['p', 'w', 's', 'k', 'i', 'l', 'l', 's']\n"
     ]
    }
   ],
   "source": [
    "string = 'pwskills'\n",
    "output = list(char for char in string)\n",
    "print(output)"
   ]
  },
  {
   "cell_type": "markdown",
   "id": "225543c9-d5ac-432f-8e91-b24e15afa563",
   "metadata": {},
   "source": [
    "Q8. Write a python program to check whether a given number is Palindrome or not using a while loop."
   ]
  },
  {
   "cell_type": "code",
   "execution_count": 9,
   "id": "611c028e-5d4b-4916-8aaf-310b2f8c695f",
   "metadata": {},
   "outputs": [
    {
     "name": "stdin",
     "output_type": "stream",
     "text": [
      " 121\n"
     ]
    },
    {
     "name": "stdout",
     "output_type": "stream",
     "text": [
      "Its a pallindrome\n"
     ]
    }
   ],
   "source": [
    "num = int(input())\n",
    "temp = num\n",
    "reverse = 0 \n",
    "while (num > 0) :\n",
    "    digit = num % 10\n",
    "    reverse = (reverse * 10) + digit\n",
    "    num = num // 10\n",
    "if (reverse == temp):\n",
    "    print('Its a pallindrome')\n",
    "else:\n",
    "          print('Not Pallindrome')"
   ]
  },
  {
   "cell_type": "markdown",
   "id": "ae94b247-46bf-4e18-b23c-0e79303a9872",
   "metadata": {},
   "source": [
    "Q9. Write a code to print odd numbers from 1 to 100 using list comprehension."
   ]
  },
  {
   "cell_type": "code",
   "execution_count": 39,
   "id": "a4f9d29e-4cc1-4298-b4f6-d95e5db9965a",
   "metadata": {},
   "outputs": [
    {
     "name": "stdout",
     "output_type": "stream",
     "text": [
      "[1, 3, 5, 7, 9, 11, 13, 15, 17, 19, 21, 23, 25, 27, 29, 31, 33, 35, 37, 39, 41, 43, 45, 47, 49, 51, 53, 55, 57, 59, 61, 63, 65, 67, 69, 71, 73, 75, 77, 79, 81, 83, 85, 87, 89, 91, 93, 95, 97, 99]\n"
     ]
    }
   ],
   "source": [
    "numbers = [num for num in range(1, 101)]\n",
    "odd_numbers = [ num for num in numbers if num % 2 != 0]\n",
    "print(odd_numbers)"
   ]
  },
  {
   "cell_type": "code",
   "execution_count": 41,
   "id": "dc79736e-83ec-404c-858f-fa2a10dc7fcd",
   "metadata": {},
   "outputs": [
    {
     "name": "stdout",
     "output_type": "stream",
     "text": [
      "[1, 2, 3, 4, 5, 6, 7, 8, 9, 10, 11, 12, 13, 14, 15, 16, 17, 18, 19, 20, 21, 22, 23, 24, 25, 26, 27, 28, 29, 30, 31, 32, 33, 34, 35, 36, 37, 38, 39, 40, 41, 42, 43, 44, 45, 46, 47, 48, 49, 50, 51, 52, 53, 54, 55, 56, 57, 58, 59, 60, 61, 62, 63, 64, 65, 66, 67, 68, 69, 70, 71, 72, 73, 74, 75, 76, 77, 78, 79, 80, 81, 82, 83, 84, 85, 86, 87, 88, 89, 90, 91, 92, 93, 94, 95, 96, 97, 98, 99, 100]\n"
     ]
    }
   ],
   "source": [
    "numbers = [num for num in range(1, 101)]\n",
    "print(numbers)"
   ]
  },
  {
   "cell_type": "code",
   "execution_count": null,
   "id": "25b01f5a-8afd-4040-b65c-13aa4dfc1fff",
   "metadata": {},
   "outputs": [],
   "source": []
  }
 ],
 "metadata": {
  "kernelspec": {
   "display_name": "Python 3 (ipykernel)",
   "language": "python",
   "name": "python3"
  },
  "language_info": {
   "codemirror_mode": {
    "name": "ipython",
    "version": 3
   },
   "file_extension": ".py",
   "mimetype": "text/x-python",
   "name": "python",
   "nbconvert_exporter": "python",
   "pygments_lexer": "ipython3",
   "version": "3.10.8"
  }
 },
 "nbformat": 4,
 "nbformat_minor": 5
}
