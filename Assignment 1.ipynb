{
 "cells": [
  {
   "cell_type": "code",
   "execution_count": 34,
   "id": "fc13410e-ef44-4e7d-9ddc-02e6d489305a",
   "metadata": {},
   "outputs": [
    {
     "data": {
      "text/plain": [
       "'Q1. Create one variable containing following type of data:\\n(i) string\\n(ii) list\\n(iii) float\\n(iv) tuple'"
      ]
     },
     "execution_count": 34,
     "metadata": {},
     "output_type": "execute_result"
    }
   ],
   "source": [
    "'''Q1. Create one variable containing following type of data:\n",
    "(i) string\n",
    "(ii) list\n",
    "(iii) float\n",
    "(iv) tuple'''"
   ]
  },
  {
   "cell_type": "code",
   "execution_count": 2,
   "id": "706d6884-eb5c-4c4f-a56d-7393a6188508",
   "metadata": {},
   "outputs": [],
   "source": [
    "A = 'Amrik'"
   ]
  },
  {
   "cell_type": "code",
   "execution_count": 4,
   "id": "b8435f1e-a23d-4271-83e4-1476520fbe44",
   "metadata": {},
   "outputs": [
    {
     "data": {
      "text/plain": [
       "str"
      ]
     },
     "execution_count": 4,
     "metadata": {},
     "output_type": "execute_result"
    }
   ],
   "source": [
    "type(A)"
   ]
  },
  {
   "cell_type": "code",
   "execution_count": 6,
   "id": "d0f52b4f-4afd-4cf0-b1d6-2d067c6e4fe9",
   "metadata": {},
   "outputs": [],
   "source": [
    "B = [1,2,'Right',False]"
   ]
  },
  {
   "cell_type": "code",
   "execution_count": 7,
   "id": "69e13032-7969-4c81-8ce2-5c8e9e0e0aeb",
   "metadata": {},
   "outputs": [
    {
     "data": {
      "text/plain": [
       "list"
      ]
     },
     "execution_count": 7,
     "metadata": {},
     "output_type": "execute_result"
    }
   ],
   "source": [
    "type(B)"
   ]
  },
  {
   "cell_type": "code",
   "execution_count": 8,
   "id": "e883d86d-d3ad-40c3-ac79-5546e33e9e19",
   "metadata": {},
   "outputs": [],
   "source": [
    "C = ((1,2,'Right',False))"
   ]
  },
  {
   "cell_type": "code",
   "execution_count": 9,
   "id": "15c6ad96-815a-4905-9fda-1c0e2d3bfad9",
   "metadata": {},
   "outputs": [
    {
     "data": {
      "text/plain": [
       "tuple"
      ]
     },
     "execution_count": 9,
     "metadata": {},
     "output_type": "execute_result"
    }
   ],
   "source": [
    "type(C)"
   ]
  },
  {
   "cell_type": "code",
   "execution_count": 10,
   "id": "b2f6bf3d-fbd7-4eb9-9921-9272babdd566",
   "metadata": {},
   "outputs": [],
   "source": [
    "D = 2.235"
   ]
  },
  {
   "cell_type": "code",
   "execution_count": 11,
   "id": "d0028c89-801d-4b74-b0be-2812964ac23f",
   "metadata": {},
   "outputs": [
    {
     "data": {
      "text/plain": [
       "float"
      ]
     },
     "execution_count": 11,
     "metadata": {},
     "output_type": "execute_result"
    }
   ],
   "source": [
    "type(D)"
   ]
  },
  {
   "cell_type": "code",
   "execution_count": null,
   "id": "3601837a-ce4a-4099-b679-3b2e4d8513da",
   "metadata": {},
   "outputs": [],
   "source": [
    "'''Q2. Given are some following variables containing data:\n",
    "(i) var1 = ‘ ‘\n",
    "(ii) var2 = ‘[ DS , ML , Python]’\n",
    "(iii) var3 = [ ‘DS’ , ’ML’ , ‘Python’ ]\n",
    "(iv) var4 = 1.\n",
    "What will be the data type of the above given variable.'''"
   ]
  },
  {
   "cell_type": "code",
   "execution_count": 14,
   "id": "0f038621-34aa-4c05-9aa9-f1d89a04c529",
   "metadata": {},
   "outputs": [],
   "source": [
    "var1 = ' '"
   ]
  },
  {
   "cell_type": "code",
   "execution_count": 15,
   "id": "406aefad-0f1e-4c7b-b8d4-24e229f63834",
   "metadata": {},
   "outputs": [
    {
     "data": {
      "text/plain": [
       "str"
      ]
     },
     "execution_count": 15,
     "metadata": {},
     "output_type": "execute_result"
    }
   ],
   "source": [
    "type(var1)"
   ]
  },
  {
   "cell_type": "code",
   "execution_count": 18,
   "id": "0611ebcd-0ef1-4a9b-aa5a-a7bba3c25296",
   "metadata": {},
   "outputs": [],
   "source": [
    "var2 = ' [ DS , ML , Python] '"
   ]
  },
  {
   "cell_type": "code",
   "execution_count": 19,
   "id": "3cd6c774-0500-4b8c-9e41-2cda8022ae86",
   "metadata": {},
   "outputs": [
    {
     "data": {
      "text/plain": [
       "str"
      ]
     },
     "execution_count": 19,
     "metadata": {},
     "output_type": "execute_result"
    }
   ],
   "source": [
    "type(var2)"
   ]
  },
  {
   "cell_type": "code",
   "execution_count": 23,
   "id": "1e901cdc-64f0-4052-9a8e-dcce8df4ca8c",
   "metadata": {},
   "outputs": [],
   "source": [
    " var3 = ['DS' , 'ML' , 'Python']"
   ]
  },
  {
   "cell_type": "code",
   "execution_count": 24,
   "id": "b3b9b9a6-ec82-4605-bd9e-20cff3f3e399",
   "metadata": {},
   "outputs": [
    {
     "data": {
      "text/plain": [
       "list"
      ]
     },
     "execution_count": 24,
     "metadata": {},
     "output_type": "execute_result"
    }
   ],
   "source": [
    "type(var3)"
   ]
  },
  {
   "cell_type": "code",
   "execution_count": 25,
   "id": "0e767c9c-0d65-4ca8-b48f-90381989ceef",
   "metadata": {},
   "outputs": [],
   "source": [
    "var4 =1\n"
   ]
  },
  {
   "cell_type": "code",
   "execution_count": 26,
   "id": "9411bb21-be07-42ba-8006-162911f6689e",
   "metadata": {},
   "outputs": [
    {
     "data": {
      "text/plain": [
       "int"
      ]
     },
     "execution_count": 26,
     "metadata": {},
     "output_type": "execute_result"
    }
   ],
   "source": [
    "type(var4)"
   ]
  },
  {
   "cell_type": "code",
   "execution_count": 28,
   "id": "ca9a8261-7731-4eca-a0d9-b1912d5e2506",
   "metadata": {},
   "outputs": [
    {
     "data": {
      "text/plain": [
       "'Q3. Explain the use of the following operators using an example:\\n(i) /\\n(ii) %\\n(iii) //\\n(iv) ** '"
      ]
     },
     "execution_count": 28,
     "metadata": {},
     "output_type": "execute_result"
    }
   ],
   "source": [
    "'''Q3. Explain the use of the following operators using an example:\n",
    "(i) /\n",
    "(ii) %\n",
    "(iii) //\n",
    "(iv) ** '''"
   ]
  },
  {
   "cell_type": "code",
   "execution_count": null,
   "id": "758c11f0-5a21-4ffc-87ec-75a55bfbd253",
   "metadata": {},
   "outputs": [],
   "source": [
    " / operator for dividing\n",
    "% mod operator to get remainder\n",
    "// floor division operator\n",
    "** power operator"
   ]
  },
  {
   "cell_type": "code",
   "execution_count": 29,
   "id": "9a4c7d26-236d-4b9b-9191-d930156b9c6e",
   "metadata": {},
   "outputs": [
    {
     "data": {
      "text/plain": [
       "2.0"
      ]
     },
     "execution_count": 29,
     "metadata": {},
     "output_type": "execute_result"
    }
   ],
   "source": [
    "4/2"
   ]
  },
  {
   "cell_type": "code",
   "execution_count": 30,
   "id": "7944bf57-1b4a-4a55-bc5a-47a03c7625d4",
   "metadata": {},
   "outputs": [
    {
     "data": {
      "text/plain": [
       "0"
      ]
     },
     "execution_count": 30,
     "metadata": {},
     "output_type": "execute_result"
    }
   ],
   "source": [
    "4%2"
   ]
  },
  {
   "cell_type": "code",
   "execution_count": 31,
   "id": "4d94ba53-6987-4607-bcc5-fc7c0589e329",
   "metadata": {},
   "outputs": [
    {
     "data": {
      "text/plain": [
       "2"
      ]
     },
     "execution_count": 31,
     "metadata": {},
     "output_type": "execute_result"
    }
   ],
   "source": [
    "4//2"
   ]
  },
  {
   "cell_type": "code",
   "execution_count": 33,
   "id": "3a62a2b8-a539-495e-97c6-a48719b03e33",
   "metadata": {},
   "outputs": [
    {
     "data": {
      "text/plain": [
       "16"
      ]
     },
     "execution_count": 33,
     "metadata": {},
     "output_type": "execute_result"
    }
   ],
   "source": [
    "4**2"
   ]
  },
  {
   "cell_type": "code",
   "execution_count": null,
   "id": "b618b99d-0450-4206-b434-1c27083f1432",
   "metadata": {},
   "outputs": [],
   "source": [
    "'''Create a list of length 10 of your choice containing multiple types of data. Using for loop print the\n",
    "element and its data type."
   ]
  },
  {
   "cell_type": "code",
   "execution_count": 43,
   "id": "e28791e6-6aa4-4402-916a-1f898fb57577",
   "metadata": {},
   "outputs": [],
   "source": [
    "A= [ 1,3.5,4,False,'abc',5,True,'xyz',8+2j,9,10]"
   ]
  },
  {
   "cell_type": "code",
   "execution_count": 45,
   "id": "0502115a-e73a-48f3-a91c-4e9c29602942",
   "metadata": {},
   "outputs": [
    {
     "name": "stdout",
     "output_type": "stream",
     "text": [
      "1 <class 'int'>\n",
      "3.5 <class 'float'>\n",
      "4 <class 'int'>\n",
      "False <class 'bool'>\n",
      "abc <class 'str'>\n",
      "5 <class 'int'>\n",
      "True <class 'bool'>\n",
      "xyz <class 'str'>\n",
      "(8+2j) <class 'complex'>\n",
      "9 <class 'int'>\n",
      "10 <class 'int'>\n"
     ]
    }
   ],
   "source": [
    "for element in A:\n",
    "    print(element, type(element))"
   ]
  },
  {
   "cell_type": "code",
   "execution_count": null,
   "id": "8d0b994a-e65f-4aa7-801d-0cdae7fdfa68",
   "metadata": {},
   "outputs": [],
   "source": [
    "'''Q5. Using a while loop, verify if the number A is purely divisible by number B and if so then how many\n",
    "times it can be divisible."
   ]
  },
  {
   "cell_type": "code",
   "execution_count": 52,
   "id": "b945f582-67c3-4e2a-baef-a867d96f45fa",
   "metadata": {},
   "outputs": [
    {
     "name": "stdin",
     "output_type": "stream",
     "text": [
      "Enter the number A:  7\n",
      "Enter the number B:  2\n"
     ]
    },
    {
     "name": "stdout",
     "output_type": "stream",
     "text": [
      "Number A can be divided by B 0 times\n"
     ]
    }
   ],
   "source": [
    "A = int(input(\"Enter the number A: \"))\n",
    "B = int(input(\"Enter the number B: \"))\n",
    "count = 0\n",
    "\n",
    "while A % B == 0:\n",
    "    A = A / B\n",
    "    count = count + 1\n",
    "\n",
    "print(\"Number A can be divided by B\", count, \"times\")"
   ]
  },
  {
   "cell_type": "code",
   "execution_count": null,
   "id": "4bb2b467-6fa3-4f76-9b67-bab1b12e9da1",
   "metadata": {},
   "outputs": [],
   "source": [
    "'''Q6. Create a list containing 25 int type data. Using for loop and if-else condition print if the element is\n",
    "divisible by 3 or not."
   ]
  },
  {
   "cell_type": "code",
   "execution_count": 63,
   "id": "bb91271c-e204-41cd-954b-5b288ac12966",
   "metadata": {},
   "outputs": [
    {
     "name": "stdout",
     "output_type": "stream",
     "text": [
      "1 Not divisible\n",
      "23 Not divisible\n",
      "36 It is divisible by 3\n",
      "42 It is divisible by 3\n",
      "5 Not divisible\n",
      "44 Not divisible\n",
      "23 Not divisible\n",
      "89 Not divisible\n",
      "99 It is divisible by 3\n",
      "18 It is divisible by 3\n",
      "24 It is divisible by 3\n",
      "30 It is divisible by 3\n",
      "45 It is divisible by 3\n",
      "86 Not divisible\n",
      "55 Not divisible\n",
      "74 Not divisible\n",
      "43 Not divisible\n",
      "46 Not divisible\n",
      "21 It is divisible by 3\n",
      "27 It is divisible by 3\n",
      "81 It is divisible by 3\n"
     ]
    }
   ],
   "source": [
    "A = [ 1,23,36,42,5,44,23,89,99,18,24,30,45,86,55,74,43,46,21,27,81]\n",
    "for element in A:\n",
    "    if element % 3 == 0:\n",
    "        print(element , \"It is divisible by 3\")\n",
    "    else:\n",
    "        print(element , \"Not divisible\")"
   ]
  },
  {
   "cell_type": "code",
   "execution_count": null,
   "id": "d902ab18-47c2-4ebc-8732-1064f24101f0",
   "metadata": {},
   "outputs": [],
   "source": [
    "'''What do you understand about mutable and immutable data types? Give examples for both showing\n",
    "this property."
   ]
  },
  {
   "cell_type": "code",
   "execution_count": null,
   "id": "8a274b54-1c88-432b-aa37-8aee3c25dd0c",
   "metadata": {},
   "outputs": [],
   "source": [
    "-- mutable data types in Python can be modified after they are created, while immutable data types cannot be changed once created."
   ]
  }
 ],
 "metadata": {
  "kernelspec": {
   "display_name": "Python 3 (ipykernel)",
   "language": "python",
   "name": "python3"
  },
  "language_info": {
   "codemirror_mode": {
    "name": "ipython",
    "version": 3
   },
   "file_extension": ".py",
   "mimetype": "text/x-python",
   "name": "python",
   "nbconvert_exporter": "python",
   "pygments_lexer": "ipython3",
   "version": "3.10.8"
  }
 },
 "nbformat": 4,
 "nbformat_minor": 5
}
