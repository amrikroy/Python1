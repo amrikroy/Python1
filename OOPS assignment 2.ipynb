{
 "cells": [
  {
   "cell_type": "markdown",
   "id": "668f8337-1e3d-4921-809f-1c1ceacccb13",
   "metadata": {},
   "source": [
    "Q1. What is Abstraction in OOps? Explain with an example."
   ]
  },
  {
   "cell_type": "markdown",
   "id": "85866bdf-0997-41a8-95c0-35bb9ae58767",
   "metadata": {},
   "source": [
    "Abstraction is a fundamental principle in object-oriented programming (OOP) that involves simplifying complex systems by representing only the essential aspects and hiding unnecessary details. It focuses on defining the behavior and properties of objects without getting into the specifics of their implementation. Abstraction allows programmers to create abstract classes and interfaces that define a contract or blueprint for derived classes to follow."
   ]
  },
  {
   "cell_type": "code",
   "execution_count": 1,
   "id": "e320825d-ce1b-4f81-b24a-5f3ff8310636",
   "metadata": {},
   "outputs": [
    {
     "name": "stdout",
     "output_type": "stream",
     "text": [
      "Woof!\n",
      "Meow!\n"
     ]
    }
   ],
   "source": [
    "from abc import ABC, abstractmethod\n",
    "\n",
    "class Animal(ABC):\n",
    "    def __init__(self, name):\n",
    "        self.name = name\n",
    "\n",
    "    @abstractmethod\n",
    "    def make_sound(self):\n",
    "        pass\n",
    "\n",
    "class Dog(Animal):\n",
    "    def make_sound(self):\n",
    "        return \"Woof!\"\n",
    "\n",
    "class Cat(Animal):\n",
    "    def make_sound(self):\n",
    "        return \"Meow!\"\n",
    "\n",
    "# Creating instances of derived classes\n",
    "dog = Dog(\"Buddy\")\n",
    "cat = Cat(\"Whiskers\")\n",
    "\n",
    "# Calling the abstract method\n",
    "print(dog.make_sound())  \n",
    "print(cat.make_sound())   \n"
   ]
  },
  {
   "cell_type": "markdown",
   "id": "72d9d5fd-bbc4-4575-873c-4841d54b797a",
   "metadata": {},
   "source": [
    "Q2. Differentiate between Abstraction and Encapsulation. Explain with an example."
   ]
  },
  {
   "cell_type": "markdown",
   "id": "f30acec8-00c9-44c0-9411-46c88d34647c",
   "metadata": {},
   "source": [
    "Abstraction and encapsulation are two important concepts in object-oriented programming (OOP), but they serve different purposes:\n",
    "\n",
    "Abstraction:\n",
    "\n",
    "Abstraction focuses on hiding unnecessary details and presenting only the essential features of an object or system.\n",
    "It allows us to create abstract classes or interfaces that define a contract or blueprint for derived classes to follow.\n",
    "Abstraction simplifies complex systems by providing a high-level view without exposing the internal implementation details."
   ]
  },
  {
   "cell_type": "markdown",
   "id": "57075df8-e330-4eac-90ae-b5809b7813fb",
   "metadata": {},
   "source": [
    "Encapsulation:\n",
    "\n",
    "Encapsulation focuses on bundling data and methods together within a class, hiding the internal implementation details from the outside world.\n",
    "It allows the class to have control over its own data by providing methods to access and modify it.\n",
    "Encapsulation protects the data from external interference and provides a way to enforce data integrity."
   ]
  },
  {
   "cell_type": "markdown",
   "id": "f8834df5-c200-47c5-8eef-37a381fb1983",
   "metadata": {},
   "source": [
    "Abstraction Example-\n",
    "\n",
    "Consider a \"Shape\" class hierarchy with various shapes like circle, rectangle, and triangle. The \"Shape\" class can define abstract methods like calculate_area() and draw() that are implemented by its derived classes. The derived classes provide their own specific implementations, but the user can work with shapes without worrying about their specific details, focusing on the common behavior of all shapes."
   ]
  },
  {
   "cell_type": "markdown",
   "id": "b20e7f23-b774-4edf-97a3-d314c16af92b",
   "metadata": {},
   "source": [
    "Encapsulation Example-\n",
    "\n",
    "Consider a \"Person\" class that encapsulates attributes like name, age, and email. The class provides methods like get_name(), set_age(), and get_email() to access and modify the attributes. By encapsulating the data, the class controls how the attributes are accessed and ensures that they are valid and consistent."
   ]
  },
  {
   "cell_type": "code",
   "execution_count": null,
   "id": "9de328b3-ae14-4e69-a562-8b0e2bf3a72a",
   "metadata": {},
   "outputs": [],
   "source": [
    "Q3. What is abc module in python? Why is it used?"
   ]
  },
  {
   "cell_type": "markdown",
   "id": "c306d481-7c29-4ba7-ad1e-c76e9823b205",
   "metadata": {},
   "source": [
    "\n",
    "The abc module in Python stands for \"Abstract Base Classes.\" It provides infrastructure for creating abstract base classes, which are classes that define a common interface or blueprint for its derived classes. The abc module provides the ABC class and related decorators and functions to define and work with abstract base classes.\n",
    "\n",
    "The abc module is used to implement and enforce abstract classes and methods in Python. "
   ]
  },
  {
   "cell_type": "code",
   "execution_count": null,
   "id": "84552288-39f1-4b3a-921b-b98a5be87392",
   "metadata": {},
   "outputs": [],
   "source": [
    "Q4. How can we achieve data abstraction?"
   ]
  },
  {
   "cell_type": "markdown",
   "id": "0ff16ac8-d675-44a5-a506-6515d713649e",
   "metadata": {},
   "source": [
    "We can achieve data abstraction by using classes, methods, and access modifiers. Here are the key steps to achieve data abstraction:\n",
    "\n",
    "Define a Class: Create a class that represents the abstraction you want to achieve. The class should encapsulate the data and behaviors related to the abstraction.\n",
    "\n",
    "Use Access Modifiers: Define access modifiers for the class attributes and methods to control their visibility and access from outside the class. In Python, the convention is to use a single underscore _ prefix for attributes/methods intended to be treated as internal/private.\n",
    "\n",
    "Provide Public Methods: Define public methods (without underscore prefix) that expose the necessary functionality and interactions with the data. These methods should provide a high-level interface to manipulate the data and perform operations related to the abstraction.\n",
    "\n",
    "Hide Internal Implementation: Hide the internal implementation details of the class and only expose the necessary information through the public methods. This prevents external code from directly accessing or modifying the internal data, ensuring data integrity and encapsulation."
   ]
  },
  {
   "cell_type": "code",
   "execution_count": null,
   "id": "720bfd07-90eb-4772-9d3c-7b43de6a42b7",
   "metadata": {},
   "outputs": [],
   "source": [
    "Q5. Can we create an instance of an abstract class? Explain your answer."
   ]
  },
  {
   "cell_type": "markdown",
   "id": "7475703f-5db5-43dd-ab21-ab2a4186d4bf",
   "metadata": {},
   "source": [
    "No, we cannot create an instance of an abstract class in Python.\n",
    "\n",
    "An abstract class is a class that is meant to be subclassed and serves as a blueprint for its derived classes. It is designed to be incomplete and contains one or more abstract methods that must be implemented by its derived classes.\n",
    "\n",
    "Python provides the abc module (Abstract Base Classes) to define abstract base classes using the ABC class and related decorators. When a class inherits from an abstract base class, it is expected to provide implementations for all the abstract methods defined in the base class.\n",
    "\n",
    "Attempting to create an instance of an abstract class directly will result in a TypeError. This is because abstract classes are incomplete and do not provide implementations for the abstract methods they define. Therefore, they cannot be instantiated."
   ]
  },
  {
   "cell_type": "code",
   "execution_count": 3,
   "id": "05a3afa3-1a82-4e82-83b2-4affea06c158",
   "metadata": {},
   "outputs": [
    {
     "ename": "TypeError",
     "evalue": "Can't instantiate abstract class AbstractClass with abstract method abstract_method",
     "output_type": "error",
     "traceback": [
      "\u001b[0;31m---------------------------------------------------------------------------\u001b[0m",
      "\u001b[0;31mTypeError\u001b[0m                                 Traceback (most recent call last)",
      "Cell \u001b[0;32mIn[3], line 9\u001b[0m\n\u001b[1;32m      6\u001b[0m         \u001b[38;5;28;01mpass\u001b[39;00m\n\u001b[1;32m      8\u001b[0m \u001b[38;5;66;03m# Trying to create an instance of the abstract class\u001b[39;00m\n\u001b[0;32m----> 9\u001b[0m instance \u001b[38;5;241m=\u001b[39m \u001b[43mAbstractClass\u001b[49m\u001b[43m(\u001b[49m\u001b[43m)\u001b[49m\n",
      "\u001b[0;31mTypeError\u001b[0m: Can't instantiate abstract class AbstractClass with abstract method abstract_method"
     ]
    }
   ],
   "source": [
    "from abc import ABC, abstractmethod\n",
    "\n",
    "class AbstractClass(ABC):\n",
    "    @abstractmethod\n",
    "    def abstract_method(self):\n",
    "        pass\n",
    "\n",
    "# Trying to create an instance of the abstract class\n",
    "instance = AbstractClass()\n",
    "\n"
   ]
  },
  {
   "cell_type": "code",
   "execution_count": null,
   "id": "c5330dcf-d901-45ce-9566-1b631d5269ea",
   "metadata": {},
   "outputs": [],
   "source": []
  }
 ],
 "metadata": {
  "kernelspec": {
   "display_name": "Python 3 (ipykernel)",
   "language": "python",
   "name": "python3"
  },
  "language_info": {
   "codemirror_mode": {
    "name": "ipython",
    "version": 3
   },
   "file_extension": ".py",
   "mimetype": "text/x-python",
   "name": "python",
   "nbconvert_exporter": "python",
   "pygments_lexer": "ipython3",
   "version": "3.10.8"
  }
 },
 "nbformat": 4,
 "nbformat_minor": 5
}
